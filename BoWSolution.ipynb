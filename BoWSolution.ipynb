{
 "cells": [
  {
   "cell_type": "markdown",
   "id": "b1d1da63-c28a-40d4-ad9c-66a7fe972bfa",
   "metadata": {},
   "source": [
    "# Bag of words modeling of time\n",
    "\n",
    "This is a quick and dirty baseline, not optimal or polished.\n",
    "\n",
    "We have three readers doing disjoint sets of books. Our strategy will be to cross-validate on two readers and test on the third."
   ]
  },
  {
   "cell_type": "code",
   "execution_count": 42,
   "id": "abe0e028-dff1-4e2a-9357-35f3897c6b0a",
   "metadata": {},
   "outputs": [],
   "source": [
    "import pandas as pd\n",
    "import numpy as np\n",
    "from matplotlib import pyplot as plt\n",
    "from sklearn.linear_model import Ridge\n",
    "from sklearn.feature_extraction.text import CountVectorizer\n",
    "from sklearn.preprocessing import StandardScaler\n",
    "from sklearn.metrics import f1_score\n",
    "from sklearn.model_selection import cross_validate\n",
    "from pathlib import Path\n",
    "import glob\n",
    "import json\n",
    "import math\n",
    "from scipy.stats import pearsonr"
   ]
  },
  {
   "cell_type": "code",
   "execution_count": 4,
   "id": "d7be38d8-eb27-488f-86a4-ed4e74d22b75",
   "metadata": {},
   "outputs": [],
   "source": [
    "files = glob.glob('/Users/tunder/Dropbox/python/time/results/*.json')\n",
    "readers = []\n",
    "durations = []\n",
    "texts = []\n",
    "for afile in files: \n",
    "    with open(afile, encoding = 'utf-8') as f:\n",
    "        for line in f:\n",
    "            j = json.loads(line)\n",
    "            if 'underwood' in afile:\n",
    "                reader = 'u'\n",
    "            elif 'mercado' in afile:\n",
    "                reader = 'm'\n",
    "            elif 'lee' in afile:\n",
    "                reader = 'l'\n",
    "            else:\n",
    "                print('error')\n",
    "            for docid, content in j.items():\n",
    "                for seg in content['segments']:\n",
    "                    text = seg['text']\n",
    "                    minutes = seg['narratedtime']\n",
    "                    readers.append(reader)\n",
    "                    texts.append(text)\n",
    "                    durations.append(math.log(minutes + .1))"
   ]
  },
  {
   "cell_type": "code",
   "execution_count": 25,
   "id": "492b5512-1950-45a1-b708-9b550019155a",
   "metadata": {},
   "outputs": [
    {
     "data": {
      "text/html": [
       "<div>\n",
       "<style scoped>\n",
       "    .dataframe tbody tr th:only-of-type {\n",
       "        vertical-align: middle;\n",
       "    }\n",
       "\n",
       "    .dataframe tbody tr th {\n",
       "        vertical-align: top;\n",
       "    }\n",
       "\n",
       "    .dataframe thead th {\n",
       "        text-align: right;\n",
       "    }\n",
       "</style>\n",
       "<table border=\"1\" class=\"dataframe\">\n",
       "  <thead>\n",
       "    <tr style=\"text-align: right;\">\n",
       "      <th></th>\n",
       "      <th>000</th>\n",
       "      <th>10</th>\n",
       "      <th>13</th>\n",
       "      <th>1904</th>\n",
       "      <th>22</th>\n",
       "      <th>23</th>\n",
       "      <th>25</th>\n",
       "      <th>abandoned</th>\n",
       "      <th>abate</th>\n",
       "      <th>abbey</th>\n",
       "      <th>...</th>\n",
       "      <th>younger</th>\n",
       "      <th>youngest</th>\n",
       "      <th>your</th>\n",
       "      <th>yours</th>\n",
       "      <th>yourself</th>\n",
       "      <th>yourselves</th>\n",
       "      <th>youth</th>\n",
       "      <th>youthful</th>\n",
       "      <th>yu</th>\n",
       "      <th>zat</th>\n",
       "    </tr>\n",
       "  </thead>\n",
       "  <tbody>\n",
       "    <tr>\n",
       "      <th>0</th>\n",
       "      <td>0</td>\n",
       "      <td>0</td>\n",
       "      <td>0</td>\n",
       "      <td>0</td>\n",
       "      <td>0</td>\n",
       "      <td>0</td>\n",
       "      <td>0</td>\n",
       "      <td>0</td>\n",
       "      <td>0</td>\n",
       "      <td>0</td>\n",
       "      <td>...</td>\n",
       "      <td>0</td>\n",
       "      <td>0</td>\n",
       "      <td>0</td>\n",
       "      <td>0</td>\n",
       "      <td>0</td>\n",
       "      <td>0</td>\n",
       "      <td>0</td>\n",
       "      <td>0</td>\n",
       "      <td>0</td>\n",
       "      <td>0</td>\n",
       "    </tr>\n",
       "    <tr>\n",
       "      <th>1</th>\n",
       "      <td>0</td>\n",
       "      <td>0</td>\n",
       "      <td>0</td>\n",
       "      <td>0</td>\n",
       "      <td>0</td>\n",
       "      <td>0</td>\n",
       "      <td>0</td>\n",
       "      <td>1</td>\n",
       "      <td>1</td>\n",
       "      <td>0</td>\n",
       "      <td>...</td>\n",
       "      <td>0</td>\n",
       "      <td>0</td>\n",
       "      <td>0</td>\n",
       "      <td>0</td>\n",
       "      <td>0</td>\n",
       "      <td>0</td>\n",
       "      <td>0</td>\n",
       "      <td>0</td>\n",
       "      <td>0</td>\n",
       "      <td>0</td>\n",
       "    </tr>\n",
       "    <tr>\n",
       "      <th>2</th>\n",
       "      <td>0</td>\n",
       "      <td>0</td>\n",
       "      <td>0</td>\n",
       "      <td>0</td>\n",
       "      <td>0</td>\n",
       "      <td>0</td>\n",
       "      <td>0</td>\n",
       "      <td>0</td>\n",
       "      <td>0</td>\n",
       "      <td>0</td>\n",
       "      <td>...</td>\n",
       "      <td>0</td>\n",
       "      <td>0</td>\n",
       "      <td>0</td>\n",
       "      <td>0</td>\n",
       "      <td>0</td>\n",
       "      <td>0</td>\n",
       "      <td>0</td>\n",
       "      <td>0</td>\n",
       "      <td>0</td>\n",
       "      <td>0</td>\n",
       "    </tr>\n",
       "    <tr>\n",
       "      <th>3</th>\n",
       "      <td>0</td>\n",
       "      <td>0</td>\n",
       "      <td>0</td>\n",
       "      <td>0</td>\n",
       "      <td>0</td>\n",
       "      <td>0</td>\n",
       "      <td>0</td>\n",
       "      <td>0</td>\n",
       "      <td>0</td>\n",
       "      <td>0</td>\n",
       "      <td>...</td>\n",
       "      <td>0</td>\n",
       "      <td>0</td>\n",
       "      <td>0</td>\n",
       "      <td>0</td>\n",
       "      <td>0</td>\n",
       "      <td>0</td>\n",
       "      <td>0</td>\n",
       "      <td>0</td>\n",
       "      <td>0</td>\n",
       "      <td>0</td>\n",
       "    </tr>\n",
       "    <tr>\n",
       "      <th>4</th>\n",
       "      <td>0</td>\n",
       "      <td>0</td>\n",
       "      <td>0</td>\n",
       "      <td>0</td>\n",
       "      <td>0</td>\n",
       "      <td>0</td>\n",
       "      <td>0</td>\n",
       "      <td>0</td>\n",
       "      <td>0</td>\n",
       "      <td>0</td>\n",
       "      <td>...</td>\n",
       "      <td>0</td>\n",
       "      <td>0</td>\n",
       "      <td>1</td>\n",
       "      <td>0</td>\n",
       "      <td>0</td>\n",
       "      <td>0</td>\n",
       "      <td>0</td>\n",
       "      <td>0</td>\n",
       "      <td>0</td>\n",
       "      <td>0</td>\n",
       "    </tr>\n",
       "  </tbody>\n",
       "</table>\n",
       "<p>5 rows × 5000 columns</p>\n",
       "</div>"
      ],
      "text/plain": [
       "   000  10  13  1904  22  23  25  abandoned  abate  abbey  ...  younger  \\\n",
       "0    0   0   0     0   0   0   0          0      0      0  ...        0   \n",
       "1    0   0   0     0   0   0   0          1      1      0  ...        0   \n",
       "2    0   0   0     0   0   0   0          0      0      0  ...        0   \n",
       "3    0   0   0     0   0   0   0          0      0      0  ...        0   \n",
       "4    0   0   0     0   0   0   0          0      0      0  ...        0   \n",
       "\n",
       "   youngest  your  yours  yourself  yourselves  youth  youthful  yu  zat  \n",
       "0         0     0      0         0           0      0         0   0    0  \n",
       "1         0     0      0         0           0      0         0   0    0  \n",
       "2         0     0      0         0           0      0         0   0    0  \n",
       "3         0     0      0         0           0      0         0   0    0  \n",
       "4         0     1      0         0           0      0         0   0    0  \n",
       "\n",
       "[5 rows x 5000 columns]"
      ]
     },
     "execution_count": 25,
     "metadata": {},
     "output_type": "execute_result"
    }
   ],
   "source": [
    "vectorizer = CountVectorizer(max_features = 5000)\n",
    "sparse_wordcounts = vectorizer.fit_transform(texts)\n",
    "wordcounts = sparse_wordcounts.toarray()\n",
    "docterm = pd.DataFrame(wordcounts, columns = vectorizer.get_feature_names())\n",
    "docterm.head()"
   ]
  },
  {
   "cell_type": "code",
   "execution_count": 26,
   "id": "f7b1ef53-9e7f-49d1-8529-5144616fd138",
   "metadata": {},
   "outputs": [
    {
     "data": {
      "text/html": [
       "<div>\n",
       "<style scoped>\n",
       "    .dataframe tbody tr th:only-of-type {\n",
       "        vertical-align: middle;\n",
       "    }\n",
       "\n",
       "    .dataframe tbody tr th {\n",
       "        vertical-align: top;\n",
       "    }\n",
       "\n",
       "    .dataframe thead th {\n",
       "        text-align: right;\n",
       "    }\n",
       "</style>\n",
       "<table border=\"1\" class=\"dataframe\">\n",
       "  <thead>\n",
       "    <tr style=\"text-align: right;\">\n",
       "      <th></th>\n",
       "      <th>000</th>\n",
       "      <th>10</th>\n",
       "      <th>13</th>\n",
       "      <th>1904</th>\n",
       "      <th>22</th>\n",
       "      <th>23</th>\n",
       "      <th>25</th>\n",
       "      <th>abandoned</th>\n",
       "      <th>abate</th>\n",
       "      <th>abbey</th>\n",
       "      <th>...</th>\n",
       "      <th>younger</th>\n",
       "      <th>youngest</th>\n",
       "      <th>your</th>\n",
       "      <th>yours</th>\n",
       "      <th>yourself</th>\n",
       "      <th>yourselves</th>\n",
       "      <th>youth</th>\n",
       "      <th>youthful</th>\n",
       "      <th>yu</th>\n",
       "      <th>zat</th>\n",
       "    </tr>\n",
       "  </thead>\n",
       "  <tbody>\n",
       "    <tr>\n",
       "      <th>0</th>\n",
       "      <td>0.0</td>\n",
       "      <td>0.0</td>\n",
       "      <td>0.0</td>\n",
       "      <td>0.0</td>\n",
       "      <td>0.0</td>\n",
       "      <td>0.0</td>\n",
       "      <td>0.0</td>\n",
       "      <td>0.000000</td>\n",
       "      <td>0.000000</td>\n",
       "      <td>0.0</td>\n",
       "      <td>...</td>\n",
       "      <td>0.0</td>\n",
       "      <td>0.0</td>\n",
       "      <td>0.00000</td>\n",
       "      <td>0.0</td>\n",
       "      <td>0.0</td>\n",
       "      <td>0.0</td>\n",
       "      <td>0.0</td>\n",
       "      <td>0.0</td>\n",
       "      <td>0.0</td>\n",
       "      <td>0.0</td>\n",
       "    </tr>\n",
       "    <tr>\n",
       "      <th>1</th>\n",
       "      <td>0.0</td>\n",
       "      <td>0.0</td>\n",
       "      <td>0.0</td>\n",
       "      <td>0.0</td>\n",
       "      <td>0.0</td>\n",
       "      <td>0.0</td>\n",
       "      <td>0.0</td>\n",
       "      <td>0.000728</td>\n",
       "      <td>0.000728</td>\n",
       "      <td>0.0</td>\n",
       "      <td>...</td>\n",
       "      <td>0.0</td>\n",
       "      <td>0.0</td>\n",
       "      <td>0.00000</td>\n",
       "      <td>0.0</td>\n",
       "      <td>0.0</td>\n",
       "      <td>0.0</td>\n",
       "      <td>0.0</td>\n",
       "      <td>0.0</td>\n",
       "      <td>0.0</td>\n",
       "      <td>0.0</td>\n",
       "    </tr>\n",
       "    <tr>\n",
       "      <th>2</th>\n",
       "      <td>0.0</td>\n",
       "      <td>0.0</td>\n",
       "      <td>0.0</td>\n",
       "      <td>0.0</td>\n",
       "      <td>0.0</td>\n",
       "      <td>0.0</td>\n",
       "      <td>0.0</td>\n",
       "      <td>0.000000</td>\n",
       "      <td>0.000000</td>\n",
       "      <td>0.0</td>\n",
       "      <td>...</td>\n",
       "      <td>0.0</td>\n",
       "      <td>0.0</td>\n",
       "      <td>0.00000</td>\n",
       "      <td>0.0</td>\n",
       "      <td>0.0</td>\n",
       "      <td>0.0</td>\n",
       "      <td>0.0</td>\n",
       "      <td>0.0</td>\n",
       "      <td>0.0</td>\n",
       "      <td>0.0</td>\n",
       "    </tr>\n",
       "    <tr>\n",
       "      <th>3</th>\n",
       "      <td>0.0</td>\n",
       "      <td>0.0</td>\n",
       "      <td>0.0</td>\n",
       "      <td>0.0</td>\n",
       "      <td>0.0</td>\n",
       "      <td>0.0</td>\n",
       "      <td>0.0</td>\n",
       "      <td>0.000000</td>\n",
       "      <td>0.000000</td>\n",
       "      <td>0.0</td>\n",
       "      <td>...</td>\n",
       "      <td>0.0</td>\n",
       "      <td>0.0</td>\n",
       "      <td>0.00000</td>\n",
       "      <td>0.0</td>\n",
       "      <td>0.0</td>\n",
       "      <td>0.0</td>\n",
       "      <td>0.0</td>\n",
       "      <td>0.0</td>\n",
       "      <td>0.0</td>\n",
       "      <td>0.0</td>\n",
       "    </tr>\n",
       "    <tr>\n",
       "      <th>4</th>\n",
       "      <td>0.0</td>\n",
       "      <td>0.0</td>\n",
       "      <td>0.0</td>\n",
       "      <td>0.0</td>\n",
       "      <td>0.0</td>\n",
       "      <td>0.0</td>\n",
       "      <td>0.0</td>\n",
       "      <td>0.000000</td>\n",
       "      <td>0.000000</td>\n",
       "      <td>0.0</td>\n",
       "      <td>...</td>\n",
       "      <td>0.0</td>\n",
       "      <td>0.0</td>\n",
       "      <td>0.00071</td>\n",
       "      <td>0.0</td>\n",
       "      <td>0.0</td>\n",
       "      <td>0.0</td>\n",
       "      <td>0.0</td>\n",
       "      <td>0.0</td>\n",
       "      <td>0.0</td>\n",
       "      <td>0.0</td>\n",
       "    </tr>\n",
       "  </tbody>\n",
       "</table>\n",
       "<p>5 rows × 5000 columns</p>\n",
       "</div>"
      ],
      "text/plain": [
       "   000   10   13  1904   22   23   25  abandoned     abate  abbey  ...  \\\n",
       "0  0.0  0.0  0.0   0.0  0.0  0.0  0.0   0.000000  0.000000    0.0  ...   \n",
       "1  0.0  0.0  0.0   0.0  0.0  0.0  0.0   0.000728  0.000728    0.0  ...   \n",
       "2  0.0  0.0  0.0   0.0  0.0  0.0  0.0   0.000000  0.000000    0.0  ...   \n",
       "3  0.0  0.0  0.0   0.0  0.0  0.0  0.0   0.000000  0.000000    0.0  ...   \n",
       "4  0.0  0.0  0.0   0.0  0.0  0.0  0.0   0.000000  0.000000    0.0  ...   \n",
       "\n",
       "   younger  youngest     your  yours  yourself  yourselves  youth  youthful  \\\n",
       "0      0.0       0.0  0.00000    0.0       0.0         0.0    0.0       0.0   \n",
       "1      0.0       0.0  0.00000    0.0       0.0         0.0    0.0       0.0   \n",
       "2      0.0       0.0  0.00000    0.0       0.0         0.0    0.0       0.0   \n",
       "3      0.0       0.0  0.00000    0.0       0.0         0.0    0.0       0.0   \n",
       "4      0.0       0.0  0.00071    0.0       0.0         0.0    0.0       0.0   \n",
       "\n",
       "    yu  zat  \n",
       "0  0.0  0.0  \n",
       "1  0.0  0.0  \n",
       "2  0.0  0.0  \n",
       "3  0.0  0.0  \n",
       "4  0.0  0.0  \n",
       "\n",
       "[5 rows x 5000 columns]"
      ]
     },
     "execution_count": 26,
     "metadata": {},
     "output_type": "execute_result"
    }
   ],
   "source": [
    "textlengths = [len(x) for x in texts]\n",
    "wordfreqs = docterm.divide(textlengths, axis = 'rows')\n",
    "wordfreqs.head()"
   ]
  },
  {
   "cell_type": "code",
   "execution_count": 35,
   "id": "fa3f030c-1df7-43bc-b939-9146d2787ae3",
   "metadata": {},
   "outputs": [],
   "source": [
    "featurecounts = docterm.sum(axis = 'rows')"
   ]
  },
  {
   "cell_type": "code",
   "execution_count": 36,
   "id": "4294273a-ed1f-418d-961a-85caed3a55c0",
   "metadata": {},
   "outputs": [
    {
     "data": {
      "text/plain": [
       "(5000,)"
      ]
     },
     "execution_count": 36,
     "metadata": {},
     "output_type": "execute_result"
    }
   ],
   "source": [
    "featurecounts.shape"
   ]
  },
  {
   "cell_type": "code",
   "execution_count": 37,
   "id": "525cfe01-8dde-4a5b-b0a2-25745e40b62a",
   "metadata": {},
   "outputs": [],
   "source": [
    "sortedcounts = sorted(list(featurecounts))"
   ]
  },
  {
   "cell_type": "code",
   "execution_count": 52,
   "id": "211e6c7d-4a1a-4cad-aabc-d981db2ea317",
   "metadata": {},
   "outputs": [
    {
     "data": {
      "text/plain": [
       "(976, 5000)"
      ]
     },
     "execution_count": 52,
     "metadata": {},
     "output_type": "execute_result"
    }
   ],
   "source": [
    "training = wordfreqs.loc[np.array(readers) != 'm', : ]\n",
    "training.shape"
   ]
  },
  {
   "cell_type": "code",
   "execution_count": 19,
   "id": "1e2db106-2349-4aba-95a7-630dfb98f35d",
   "metadata": {},
   "outputs": [],
   "source": [
    "readers = np.array(readers)\n",
    "durations = np.array(durations)"
   ]
  },
  {
   "cell_type": "code",
   "execution_count": 53,
   "id": "eb41058b-9ebd-429a-a511-de4a5787f235",
   "metadata": {},
   "outputs": [
    {
     "data": {
      "text/plain": [
       "(192, 5000)"
      ]
     },
     "execution_count": 53,
     "metadata": {},
     "output_type": "execute_result"
    }
   ],
   "source": [
    "testset = wordfreqs.loc[readers == 'm', : ]\n",
    "testset.shape"
   ]
  },
  {
   "cell_type": "code",
   "execution_count": 56,
   "id": "752019d7-b312-4a0c-bc0e-00d7b55b9812",
   "metadata": {},
   "outputs": [],
   "source": [
    "trainscaler = StandardScaler()\n",
    "trainXscaled = trainscaler.fit_transform(training)\n",
    "trainXscaled = pd.DataFrame(trainXscaled, columns = training.columns)"
   ]
  },
  {
   "cell_type": "code",
   "execution_count": 57,
   "id": "05a6672a-3119-4703-9fba-231667eef05e",
   "metadata": {},
   "outputs": [],
   "source": [
    "testscaler = StandardScaler()\n",
    "testXscaled = testscaler.fit_transform(testset)\n",
    "testXscaled = pd.DataFrame(testXscaled, columns = testset.columns)"
   ]
  },
  {
   "cell_type": "code",
   "execution_count": 54,
   "id": "662c3fa6-ed16-46ed-8737-bebcda3c6ea4",
   "metadata": {},
   "outputs": [],
   "source": [
    "testy = durations[readers == 'm']\n",
    "trainy = durations[readers != 'm']"
   ]
  },
  {
   "cell_type": "code",
   "execution_count": 58,
   "id": "3770f92e-6cca-466e-b901-08b6a506943d",
   "metadata": {},
   "outputs": [
    {
     "name": "stdout",
     "output_type": "stream",
     "text": [
      "wordcount 500 alpha 100\n",
      "Mean r2: -0.01982894547939207\n",
      "\n",
      "wordcount 500 alpha 1000\n",
      "Mean r2: 0.27402318706774975\n",
      "\n",
      "wordcount 500 alpha 2000\n",
      "Mean r2: 0.27255562330050925\n",
      "\n",
      "wordcount 500 alpha 5000\n",
      "Mean r2: 0.22241027060585133\n",
      "\n",
      "wordcount 500 alpha 10000\n",
      "Mean r2: 0.16289327637396714\n",
      "\n",
      "wordcount 1000 alpha 100\n",
      "Mean r2: -0.025387438598027102\n",
      "\n",
      "wordcount 1000 alpha 1000\n",
      "Mean r2: 0.2834710888624623\n",
      "\n",
      "wordcount 1000 alpha 2000\n",
      "Mean r2: 0.2878811132433792\n",
      "\n",
      "wordcount 1000 alpha 5000\n",
      "Mean r2: 0.24629319447376735\n",
      "\n",
      "wordcount 1000 alpha 10000\n",
      "Mean r2: 0.18924309289467006\n",
      "\n",
      "wordcount 2000 alpha 100\n",
      "Mean r2: 0.08993389963863732\n",
      "\n",
      "wordcount 2000 alpha 1000\n",
      "Mean r2: 0.25397522763004243\n",
      "\n",
      "wordcount 2000 alpha 2000\n",
      "Mean r2: 0.27112494643302754\n",
      "\n",
      "wordcount 2000 alpha 5000\n",
      "Mean r2: 0.2482800574963307\n",
      "\n",
      "wordcount 2000 alpha 10000\n",
      "Mean r2: 0.20121263001901757\n",
      "\n",
      "wordcount 3000 alpha 100\n",
      "Mean r2: 0.1747405253842262\n",
      "\n",
      "wordcount 3000 alpha 1000\n",
      "Mean r2: 0.24573576591079113\n",
      "\n",
      "wordcount 3000 alpha 2000\n",
      "Mean r2: 0.259513641463269\n",
      "\n",
      "wordcount 3000 alpha 5000\n",
      "Mean r2: 0.2443261454635032\n",
      "\n",
      "wordcount 3000 alpha 10000\n",
      "Mean r2: 0.20437443671009806\n",
      "\n"
     ]
    }
   ],
   "source": [
    " for numwords in [500, 1000, 2000, 3000]:\n",
    "    trainX = trainXscaled.loc[ : , featurecounts > sortedcounts[-numwords]]\n",
    "    for alpha in [100, 1000, 2000, 5000, 10000]:\n",
    "        model = Ridge(alpha = alpha, max_iter = 1000) \n",
    "        results = cross_validate(model, trainX, trainy, cv = 5)\n",
    "        print('wordcount', numwords, 'alpha', alpha)\n",
    "        print('Mean r2:', np.mean(results['test_score']))\n",
    "        print()"
   ]
  },
  {
   "cell_type": "code",
   "execution_count": 41,
   "id": "d3c9790f-3276-481b-9b38-4310cdee9d65",
   "metadata": {},
   "outputs": [
    {
     "data": {
      "text/plain": [
       "0.406201920231798"
      ]
     },
     "execution_count": 41,
     "metadata": {},
     "output_type": "execute_result"
    }
   ],
   "source": [
    "math.sqrt(.165)"
   ]
  },
  {
   "cell_type": "code",
   "execution_count": 61,
   "id": "31ee1d95-c8c1-473a-b75a-a9435bf5460e",
   "metadata": {},
   "outputs": [
    {
     "data": {
      "text/plain": [
       "(0.3763021998350018, 7.482366177243692e-08)"
      ]
     },
     "execution_count": 61,
     "metadata": {},
     "output_type": "execute_result"
    }
   ],
   "source": [
    "testX = testXscaled.loc[ : , featurecounts > sortedcounts[-1000]]\n",
    "trainX = trainXscaled.loc[ : , featurecounts > sortedcounts[-1000]]\n",
    "ridge = Ridge(alpha = 2000, max_iter = 1000) \n",
    "ridge.fit(trainX, trainy)\n",
    "\n",
    "# Now apply it to test\n",
    "\n",
    "predictions = ridge.predict(testX)\n",
    "pearsonr(testy, predictions)"
   ]
  },
  {
   "cell_type": "code",
   "execution_count": 62,
   "id": "7067ff8d-4f4a-485a-92ee-3bf7ccf90ae6",
   "metadata": {},
   "outputs": [],
   "source": [
    "# u as test 0.5847\n",
    "# l as test 0.5169\n",
    "# m as test 0.3763"
   ]
  },
  {
   "cell_type": "code",
   "execution_count": 63,
   "id": "f564e277-9783-4422-b037-877aec49cf2c",
   "metadata": {},
   "outputs": [
    {
     "data": {
      "text/plain": [
       "0.4926333333333333"
      ]
     },
     "execution_count": 63,
     "metadata": {},
     "output_type": "execute_result"
    }
   ],
   "source": [
    "(0.5847 + 0.5169 + 0.3763) / 3"
   ]
  },
  {
   "cell_type": "code",
   "execution_count": null,
   "id": "cf337527-0cd3-4b3a-94eb-8ca4351afbb0",
   "metadata": {},
   "outputs": [],
   "source": []
  }
 ],
 "metadata": {
  "kernelspec": {
   "display_name": "Python 3",
   "language": "python",
   "name": "python3"
  },
  "language_info": {
   "codemirror_mode": {
    "name": "ipython",
    "version": 3
   },
   "file_extension": ".py",
   "mimetype": "text/x-python",
   "name": "python",
   "nbconvert_exporter": "python",
   "pygments_lexer": "ipython3",
   "version": "3.7.6"
  }
 },
 "nbformat": 4,
 "nbformat_minor": 5
}
