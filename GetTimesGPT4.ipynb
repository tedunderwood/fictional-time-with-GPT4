{
 "cells": [
  {
   "cell_type": "code",
   "execution_count": 1,
   "id": "daa70395-d215-4088-b835-121a81806301",
   "metadata": {},
   "outputs": [],
   "source": [
    "import openai\n",
    "import glob\n",
    "import json\n",
    "import time\n",
    "import backoff\n",
    "import random\n",
    "import math\n",
    "from scipy.stats import pearsonr\n",
    "\n",
    "# The following useful code borrowed from Quinn Dombrowski\n",
    "\n",
    "@backoff.on_exception(backoff.expo, openai.error.RateLimitError)\n",
    "def completions_with_backoff(**kwargs):\n",
    "    return openai.ChatCompletion.create(**kwargs)"
   ]
  },
  {
   "cell_type": "markdown",
   "id": "d5d9d80e-964c-4118-ac0d-f3a0f5979a2d",
   "metadata": {},
   "source": [
    "### Read in data and OpenAPI credentials"
   ]
  },
  {
   "cell_type": "code",
   "execution_count": 42,
   "id": "990bc1bf-b470-4171-87b1-8c7ebe3fbee9",
   "metadata": {},
   "outputs": [],
   "source": [
    "# read in my org code and api_key from a local file, obvs not included in the repo y'all!\n",
    "\n",
    "with open('credentials.txt', encoding = 'utf-8') as f:\n",
    "    openai.organization = f.readline().strip()\n",
    "    openai.api_key = f.readline().strip()\n",
    "    "
   ]
  },
  {
   "cell_type": "markdown",
   "id": "11e43ac8-1546-42ed-889a-a0fa7633efa9",
   "metadata": {},
   "source": [
    "The data is in separate files produced by different readers. The data in these files is represented in json."
   ]
  },
  {
   "cell_type": "code",
   "execution_count": 3,
   "id": "229b41ed-d839-4c0d-8aaf-068a52de6b26",
   "metadata": {},
   "outputs": [],
   "source": [
    "files = glob.glob('/Users/tunder/Dropbox/python/time/results/*.json')\n",
    "alljsons = []\n",
    "for afile in files: \n",
    "    with open(afile, encoding = 'utf-8') as f:\n",
    "        for line in f:\n",
    "            j = json.loads(line)\n",
    "            if 'underwood' in afile:\n",
    "                reader = 'u'\n",
    "            elif 'mercado' in afile:\n",
    "                reader = 'm'\n",
    "            elif 'lee' in afile:\n",
    "                reader = 'l'\n",
    "            else:\n",
    "                print('error')\n",
    "            alljsons.append((reader, j))"
   ]
  },
  {
   "cell_type": "markdown",
   "id": "f6585b02-bd5b-45b5-a2f5-23b121c3ee59",
   "metadata": {},
   "source": [
    "We simplify this to two parallel lists of **texts** (from the fiction) and **times** estimated by the human readers. Segment ids are attached to both lists."
   ]
  },
  {
   "cell_type": "code",
   "execution_count": 4,
   "id": "54ec2643-26fe-4f3c-99a5-65d6da796071",
   "metadata": {},
   "outputs": [],
   "source": [
    "texts = []\n",
    "times = []\n",
    "\n",
    "for reader, afile in alljsons:\n",
    "    for docid, v in afile.items():\n",
    "        for seg in v['segments']:\n",
    "            text = seg['text']\n",
    "            index = seg['idx']\n",
    "            segid = docid + '|' + str(index) + '|' + reader\n",
    "            unmarkedid = docid + '|' + str(index)\n",
    "            minutes = seg['narratedtime']\n",
    "            texts.append((segid, text))\n",
    "            times.append((segid, minutes))"
   ]
  },
  {
   "cell_type": "code",
   "execution_count": 43,
   "id": "3012e658-85c8-4f09-bebc-35d5f17807c3",
   "metadata": {},
   "outputs": [
    {
     "name": "stdout",
     "output_type": "stream",
     "text": [
      "1168 1168\n"
     ]
    }
   ],
   "source": [
    "print(len(times), len(texts))\n",
    "#sanity check"
   ]
  },
  {
   "cell_type": "code",
   "execution_count": 6,
   "id": "fc3c330e-80d2-4d21-94bf-8d8ffde7e730",
   "metadata": {},
   "outputs": [
    {
     "data": {
      "text/plain": [
       "[('RadcASR.txt|0|u', 52560000.0),\n",
       " ('RadcASR.txt|1|u', 5256000.0),\n",
       " ('RadcASR.txt|9|u', 120.0),\n",
       " ('RadcASR.txt|90|u', 10.0),\n",
       " ('RadcASR.txt|107|u', 7.0),\n",
       " ('RadcASR.txt|109|u', 20160.0),\n",
       " ('RadcASR.txt|113|u', 360.0),\n",
       " ('RadcASR.txt|137|u', 10.0),\n",
       " ('RadcASR.txt|148|u', 222.0),\n",
       " ('RadcASR.txt|160|u', 9986400.0)]"
      ]
     },
     "execution_count": 6,
     "metadata": {},
     "output_type": "execute_result"
    }
   ],
   "source": [
    "times[0:10]"
   ]
  },
  {
   "cell_type": "code",
   "execution_count": 7,
   "id": "86a5dc2e-5454-4d02-872e-0868a7a51c6d",
   "metadata": {},
   "outputs": [
    {
     "data": {
      "text/plain": [
       "('RadcASR.txt|1|u',\n",
       " 'said he, \"were once the seat of luxury\\n \\n and vice. They exhibited a singular\\n instance of the retribution of Heaven,\\n and were from that period forsaken,\\n and abandoned to decay.\" His words\\n excited my curiosity, and I enquired\\n further concerning their meaning.\\n \"A solemn history belongs to this\\n castle,\" said he, \"which is too long and\\n intricate for me to relate. It is, however,\\n contained in a manuscript in our\\n library, of which, I could, perhaps, procure\\n you a sight. A brother of our order,\\n a descendant of the noble house of\\n Mazzini, collected and recorded the\\n most striking incidents relating to his\\n family, and the history thus formed, he\\n left as a legacy to our convent. If you\\n please, we will walk thither.\"\\n I accompanied him to the convent,\\n and the friar introduced me to his superior,\\n a man of an intelligent mind and\\n benevolent heart, with whom I passed\\n some hours in interesting conversation.\\n I believe my sentiments pleased him;\\n \\n for by his indulgence, I was permitted\\n to take abstracts of the history before\\n me, which, with some further particulars\\n obtained in conversation with the\\n abate, I have arranged in the following\\n pages.\\n \\n \\n CHAPTER I.\\n TOWARDS the close of the sixteenth\\n century, this castle was in\\n the possession of Ferdinand, fifth marquis\\n of Mazzini, and was for some years\\n the principal residence of his family.\\n')"
      ]
     },
     "execution_count": 7,
     "metadata": {},
     "output_type": "execute_result"
    }
   ],
   "source": [
    "texts[1]"
   ]
  },
  {
   "cell_type": "markdown",
   "id": "4e6616cf-47ee-453c-a63b-9110f3d6f276",
   "metadata": {},
   "source": [
    "### Define the prompt that teaches the model how to estimate time"
   ]
  },
  {
   "cell_type": "code",
   "execution_count": 8,
   "id": "1277dc85-1532-4d40-b4a7-97a6c337db37",
   "metadata": {},
   "outputs": [],
   "source": [
    "user_prompts = [\"\", \"\", \"\", \"\"]\n",
    "user_prompts[0] = \"Read the following passage of fiction. Then do five things. \\\n",
    "1: Briefly summarize the passage.\\n \\\n",
    "2: Reason step by step to decide how much time is described in the passage. \\\n",
    "If the passage doesn't include any explicit reference to time, you can guess how much time the events described would have taken. \\\n",
    "Even description can imply the passage of time by mentioning the earlier history of people or buildings. \\\n",
    "But characters' references to the past or future in spoken dialogue should not count as time that passed in the scene. \\\n",
    "Report the time using units of years, weeks, days, hours, or minutes. Do not say zero or N/A.\\n \\\n",
    "3: If you described a range of possible times in step 2 take the midpoint of the range. \\\n",
    "Then multiply to convert the units into minutes. \\n\\\n",
    "4: Report only the number of minutes elapsed, which should match the number in step 3. Do not reply N/A. \\n\\\n",
    "5: Given the amount of speculation required in step 2, describe your certainty about the estimate--either high, moderate, or low.\\n \\\n",
    "The passage follows:\\n \\\n",
    "TWENTY-FIVE It was raining again the next morning, a slanting gray rain like a swung curtain \\\n",
    "of crystal beads. I got up feeling sluggish and tired and stood looking out of the windows, with \\\n",
    "a dark harsh taste of Sternwoods still in my mouth. I was as empty of life as a scarecrow's pockets. \\\n",
    "I went out to the kitchenette and drank two cups of black coffee. You can have a hangover from other \\\n",
    "things than alcohol. I had one from women. Women made me sick. I shaved and showered and dressed and \\\n",
    "got my raincoat out and went downstairs and looked out of the front door. Across the street, a hundred feet up, \\\n",
    "a gray Plymouth sedan was parked. It was the same one that had tried to trail me around the day before, the same \\\n",
    "one that I had asked Eddie Mars about. There might be a cop in it, if a cop had that much time on his hands and \\\n",
    "wanted to waste it following me around. Or it might be a smoothie in the detective business trying to get a noseful \\\n",
    "of somebody else's case in order to chisel a way into it. Or it might be the Bishop of Bermuda disapproving of my night life.\""
   ]
  },
  {
   "cell_type": "code",
   "execution_count": 9,
   "id": "a07fbbd5-efb7-4c35-ad4b-fb7a95db6302",
   "metadata": {},
   "outputs": [],
   "source": [
    "assistant_prompts = [\"\", \"\", \"\", \"\"]\n",
    "assistant_prompts[0] = \"1: A detective wakes up 'the next morning,' looks out a window for an undefined time, drinks \\\n",
    "(and presumably needs to make) two cups of coffee, then shaves and showers and gets dressed \\\n",
    "before stepping out his front door and seeing a car. \\n\\\n",
    "2: Making coffee, showering, and getting dressed take at least an hour. There's some ambiguity \\\n",
    "about whether to count the implicit reference to yesterday (since this is 'the next morning') \\\n",
    "as time elapsed in the passage, but let's say no, since yesterday is not actually described. So, an hour to 90 minutes. \\n\\\n",
    "3: 1.25 hours have elapsed. Multiplying by 60 minutes an hour that's 75 minutes.\\n \\\n",
    "4: 75 minutes.\\n \\\n",
    "5: Low confidence, because of ambiguity about a reference to the previous day.\""
   ]
  },
  {
   "cell_type": "code",
   "execution_count": 10,
   "id": "a4a6b70d-05c8-4851-b742-558b9906a6f7",
   "metadata": {},
   "outputs": [],
   "source": [
    "user_prompts[1] = \"Read the following passage of fiction. Then do five things. \\\n",
    "1: Briefly summarize the passage.\\n \\\n",
    "2: Reason step by step to decide how much time is described in the passage. \\\n",
    "If the passage doesn't include any explicit reference to time, you can guess how much time the events described would have taken. \\\n",
    "Even description can imply the passage of time by mentioning the earlier history of people or buildings. \\\n",
    "But characters' references to the past or future in spoken dialogue should not count as time that passed in the scene. \\\n",
    "Report the time using units of years, weeks, days, hours, or minutes. Do not say zero or N/A.\\n \\\n",
    "3: If you described a range of possible times in step 2 take the midpoint of the range. \\\n",
    "Then multiply to convert the units into minutes. \\n\\\n",
    "4: Report only the number of minutes elapsed, which should match the number in step 3. Do not reply N/A. \\n\\\n",
    "5: Describe your certainty about the estimate—either high, moderate, or low.\\n \\\n",
    "The passage follows:\\n \\\n",
    "CHAPTER I  \\\"TOM!\\\" No answer.  \\\"TOM!\\\"  No answer.  \\\"What's gone with that boy, I wonder? You TOM!\\\" \\\n",
    "No answer.  The old lady pulled her spectacles down and looked over them about the room; then she put them up and looked out \\\n",
    "under them. She seldom or never looked _through_ them for so small a thing as a boy; they were her state pair, the pride of her heart, \\\n",
    "and were built for \\\"style,\\\" not service--she could have seen through a pair of stove-lids just as well. \\\n",
    "She looked perplexed for a moment, and then said, not fiercely, but still loud enough for the furniture to hear:  \\\n",
    "\\\"Well, I lay if I get hold of you I'll--\\\"  She did not finish, for by this time she was bending down and punching \\\n",
    "under the bed with the broom, and so she needed breath to punctuate the punches with. She resurrected nothing but the cat.  \\\n",
    "\\\"I never did see the beat of that boy!\\\" She went to the open door and stood in it and looked out among the tomato vines \\\n",
    "and \\\"jimpson\\\" weeds that constituted the garden. No Tom. So she lifted up her voice at an angle calculated for distance and \\\n",
    "shouted: \\\"Y-o-u-u TOM!\\\" There was a slight noise behind her and she turned just in time to seize a small boy by the slack \\\n",
    "of his roundabout and arrest his flight.\""
   ]
  },
  {
   "cell_type": "code",
   "execution_count": 11,
   "id": "54c79326-7694-4961-8649-26d6374983bd",
   "metadata": {},
   "outputs": [],
   "source": [
    "assistant_prompts[1] = \"1: An old lady calls for a boy named Tom, checks for him under the bed, goes to the open door and calls for him — then finally catches him.\\n\\\n",
    "2: The lady's actions are described minutely and seem rapid; they probably took two to four minutes. The lady also\\\n",
    "alludes to Tom's past bad behavior, but references to the past in dialogue should not count as time passing in the scene. \\n\\\n",
    "3: Three minutes have elapsed.\\n\\\n",
    "4: 3 minutes.\\n\\\n",
    "5: High confidence.\""
   ]
  },
  {
   "cell_type": "code",
   "execution_count": 12,
   "id": "afde86a0-bdec-4d0b-9ad3-c059766e6e93",
   "metadata": {},
   "outputs": [],
   "source": [
    "user_prompts[2] = \"Read the following passage of fiction. Then do five things. \\\n",
    "1: Briefly summarize the passage.\\n \\\n",
    "2: Reason step by step to decide how much time is described in the passage. \\\n",
    "If the passage doesn't include any explicit reference to time, you can guess how much time the events described would have taken. \\\n",
    "Even description can imply the passage of time by mentioning the earlier history of people or buildings. \\\n",
    "But characters' references to the past or future in spoken dialogue should not count as time that passed in the scene. \\\n",
    "Report the time using units of years, weeks, days, hours, or minutes. Do not say zero or N/A.\\n \\\n",
    "3: If you described a range of possible times in step 2 take the midpoint of the range. \\\n",
    "Then multiply to convert the units into minutes. \\n\\\n",
    "4: Report only the number of minutes elapsed, which should match the number in step 3. Do not reply N/A. \\n\\\n",
    "5: Describe your certainty about the estimate—either high, moderate, or low.\\n \\\n",
    "The passage follows:\\n \\\n",
    "Miss WESTBURY, TO Lady BELL SYDNEY. I Hoped to have left town before now, my brother was so much better, \\\n",
    "that the doctors thought he might be removed without danger, and wished it, as change of air\\\n",
    "would have been of service to him but his fever is returned with violence Heaven knows what may be \\\n",
    "the consequence of this relapse. What a miserable time have I had of it my dear Lady Bell and what but \\\n",
    "a continuation of misery have I to expect, should he not recover? alas! 'tis not the loss of him alone I \\\n",
    "shall have to deplore my amiable Rochley too must be the object of my sorrow, for in that wretched case he \\\n",
    "never can be mine but let me drop the melancholy subject, it sinks my spirits why should I also sink yours. \\\n",
    "You may possibly recollect my telling you, how violently Lord Templeton was struck with the charms of the \\\n",
    "elegant creature we saw some time ago at Mrs. Bellmours I was convinced her charms had made a very deep \\\n",
    "impression I however thought no more of it, till calling one day last week to enquire for my brother, I saw \\\n",
    "him and by way of a little chat, asked, if he had been so fortunate as to get another sight of the lovely \\\n",
    "Miss Beverley? I have not, yet I confess to you Miss Westbury, but I would give half my estate, could I obtain \\\n",
    "that happiness are you serious my lord?\""
   ]
  },
  {
   "cell_type": "code",
   "execution_count": 13,
   "id": "0e236547-9e45-403e-b8bb-13d36fc97691",
   "metadata": {},
   "outputs": [],
   "source": [
    "assistant_prompts[2] = \"1: This appears to be an epistolary narrative. The letter-writer explains that she would have left town except \\\n",
    "for her brother's illness. She then recalls telling her correspondent some time ago about the beauty of a woman, \\\n",
    "and recalls an event last week.\\n \\\n",
    "2: There is an explicit reference to an event a week earlier. Some of the other references, for instance to a brother's\\\n",
    "illness, might stretch over several weeks. We can compromise and say two weeks.\\n \\\n",
    "3: 2 weeks have elapsed. At seven days a week that's 14 days. 24 hours in a day, so 336 hours. 60 minutes in an hour, so 20160 minutes.\\n \\\n",
    "4: 20160 minutes.\\n \\\n",
    "5: Moderate confidence.\""
   ]
  },
  {
   "cell_type": "code",
   "execution_count": 14,
   "id": "29f170d2-1586-4878-a77d-d0b964c8fffd",
   "metadata": {},
   "outputs": [],
   "source": [
    "user_prompts[3] = \"Read the following passage of fiction. Then do five things. \\\n",
    "1: Briefly summarize the passage.\\n \\\n",
    "2: Reason step by step to decide how much time is described in the passage. \\\n",
    "If the passage doesn't include any explicit reference to time, you can guess how much time the events described would have taken. \\\n",
    "Even description can imply the passage of time by mentioning the earlier history of people or buildings. \\\n",
    "But characters' references to the past or future in spoken dialogue should not count as time that passed in the scene. \\\n",
    "Report the time using units of years, weeks, days, hours, or minutes. Do not say zero or N/A.\\n \\\n",
    "3: If you described a range of possible times in step 2 take the midpoint of the range. \\\n",
    "Then multiply to convert the units into minutes. \\n\\\n",
    "4: Report only the number of minutes elapsed, which should match the number in step 3. Do not reply N/A. \\n\\\n",
    "5: Given the amount of speculation required in step 2, describe your certainty about the estimate--either high, moderate, or low.\\n \\\n",
    "The passage follows:\\n \\\n",
    "said he, 'were once the seat of luxury and vice. They exhibited a singular\\n instance of the retribution of Heaven, \\\n",
    "and were from that period forsaken, and abandoned to decay. His words excited my curiosity, and I enquired further \\\n",
    "concerning their meaning. 'A solemn history belongs to this castle,' said he, 'which is too long and\\n intricate \\\n",
    "for me to relate. It is, however, contained in a manuscript in our library, of which, I could, perhaps, procure \\\n",
    "you a sight. A brother of our order, a descendant of the noble house of Mazzini, collected and recorded the most \\\n",
    "striking incidents relating to his family, and the history thus formed, he left as a legacy to our convent. \\\n",
    "If you please, we will walk thither.' I accompanied him to the convent, and the friar introduced me to his superior, \\\n",
    "a man of an intelligent mind and\\n benevolent heart, with whom I passed some hours in interesting conversation. \\\n",
    "I believe my sentiments pleased him; for by his indulgence, I was permitted\\n to take abstracts of the history before \\\n",
    "me, which, with some further particulars obtained in conversation with the abate, I have arranged in the following pages. \\\n",
    "CHAPTER I. TOWARDS the close of the sixteenth century, this castle was in the possession of Ferdinand, fifth marquis of Mazzini, \\\n",
    "and was for some years the principal residence of his family.\""
   ]
  },
  {
   "cell_type": "code",
   "execution_count": 15,
   "id": "aa2a339a-32a7-45c0-915c-f7c80cad6c94",
   "metadata": {},
   "outputs": [],
   "source": [
    "assistant_prompts[3] = \"1: This passage moves from a frame narrative set (judging by diction) at the end of the eighteenth century, \\\n",
    "to a story set at the end of the sixteenth century. \\n\\\n",
    "2: Although the events in the frame narrative might only take a few minutes, the distance between the two narratives is 200 years. \\n\\\n",
    "3: The passage as a whole spans 200 years. At 365 days a year that's 73000 days x 24 hours in a day, so 1752000 hours. 60 minutes in an hour, so 105120000 minutes!\\n\\\n",
    "4: 105120000 minutes. \\n\\\n",
    "5: Moderate confidence.\""
   ]
  },
  {
   "cell_type": "code",
   "execution_count": 16,
   "id": "17806488-ab5e-47dc-9fa5-db427f9224fa",
   "metadata": {},
   "outputs": [
    {
     "data": {
      "text/plain": [
       "\"Read the following passage of fiction. Then do five things. 1: Briefly summarize the passage.\\n 2: Reason step by step to decide how much time is described in the passage. If the passage doesn't include any explicit reference to time, you can guess how much time the events described would have taken. Even description can imply the passage of time by mentioning the earlier history of people or buildings. But characters' references to the past or future in spoken dialogue should not count as time that passed in the scene. Report the time using units of years, weeks, days, hours, or minutes. Do not say zero or N/A.\\n 3: If you described a range of possible times in step 2 take the midpoint of the range. Then multiply to convert the units into minutes. \\n4: Report only the number of minutes elapsed, which should match the number in step 3. Do not reply N/A. \\n5: Describe your certainty about the estimate—either high, moderate, or low.\\n The passage follows:\\n Miss WESTBURY, TO Lady BELL SYDNEY. I Hoped to have left town before now, my brother was so much better, that the doctors thought he might be removed without danger, and wished it, as change of airwould have been of service to him but his fever is returned with violence Heaven knows what may be the consequence of this relapse. What a miserable time have I had of it my dear Lady Bell and what but a continuation of misery have I to expect, should he not recover? alas! 'tis not the loss of him alone I shall have to deplore my amiable Rochley too must be the object of my sorrow, for in that wretched case he never can be mine but let me drop the melancholy subject, it sinks my spirits why should I also sink yours. You may possibly recollect my telling you, how violently Lord Templeton was struck with the charms of the elegant creature we saw some time ago at Mrs. Bellmours I was convinced her charms had made a very deep impression I however thought no more of it, till calling one day last week to enquire for my brother, I saw him and by way of a little chat, asked, if he had been so fortunate as to get another sight of the lovely Miss Beverley? I have not, yet I confess to you Miss Westbury, but I would give half my estate, could I obtain that happiness are you serious my lord?\""
      ]
     },
     "execution_count": 16,
     "metadata": {},
     "output_type": "execute_result"
    }
   ],
   "source": [
    "user_prompts[2]"
   ]
  },
  {
   "cell_type": "markdown",
   "id": "f9d5f8f7-61f6-4514-b23c-bcab979a470e",
   "metadata": {},
   "source": [
    "### Code that accesses the API, sends prompts, and parses results"
   ]
  },
  {
   "cell_type": "code",
   "execution_count": 17,
   "id": "970f27c8-292c-4230-9cbe-0ec249a85fdc",
   "metadata": {},
   "outputs": [],
   "source": [
    "def parse_response(astring):\n",
    "    astring = astring.replace('1:', '')\n",
    "    astring = astring.replace('2:', '<**>')\n",
    "    astring = astring.replace('3:', '<**>')\n",
    "    astring = astring.replace('4:', '<**>')\n",
    "    astring = astring.replace('5:', '<**>')\n",
    "    if not '<**>' in astring:\n",
    "        astring = astring.replace('1.', '')\n",
    "        astring = astring.replace('2.', '<**>')\n",
    "        astring = astring.replace('3.', '<**>')\n",
    "        astring = astring.replace('4.', '<**>')\n",
    "        astring = astring.replace('5.', '<**>')\n",
    "    parts = [x.strip() for x in astring.split('<**>')]\n",
    "    return parts"
   ]
  },
  {
   "cell_type": "code",
   "execution_count": 19,
   "id": "ce79db2e-1143-4804-9e53-54e8c69242c5",
   "metadata": {},
   "outputs": [
    {
     "name": "stdout",
     "output_type": "stream",
     "text": [
      "1 52560000.0 45 minutes. Moderate confidence.\n",
      "2 5256000.0 180 minutes. Moderate confidence.\n",
      "3 120.0 20 minutes. Moderate confidence.\n",
      "4 10.0 10 minutes. Moderate confidence.\n",
      "5 7.0 4 minutes. Moderate confidence.\n",
      "PEARSON: (0.8555612044651562, 0.06444944796774625)\n",
      "\n",
      "6 20160.0 90 minutes. Moderate confidence.\n",
      "7 360.0 75 minutes. Moderate confidence, as the time spent eating and resting at the village is not explicitly stated.\n",
      "8 10.0 7.5 minutes. Moderate confidence.\n",
      "9 222.0 65 minutes. Moderate confidence.\n",
      "10 9986400.0 9,198,000 minutes. Low confidence, due to the uncertainty of the narrator's age and the speculative nature of the estimate.\n",
      "11 5.0 3.5 minutes. Moderate confidence.\n",
      "12 2.0 3.5 minutes. Moderate confidence.\n",
      "13 60.0 45 minutes. Moderate confidence.\n",
      "14 10.0 3.5 minutes. Moderate confidence.\n",
      "15 40320.0 4320 minutes. Moderate confidence.\n",
      "PEARSON: (0.69078099091017, 0.004353244154731867)\n",
      "\n",
      "16 13140000.0 3,942,000 minutes. Low confidence, due to the lack of specific time references and the need to estimate a range of years.\n",
      "17 26280000.0 657000 minutes. Low confidence, due to the speculative nature of the time estimate.\n",
      "18 30240.0 300 minutes. Moderate confidence, as the travel time is not explicitly mentioned and could vary.\n",
      "19 2160.0 2160 minutes. Moderate confidence.\n",
      "20 20160.0 10080 minutes. Moderate confidence.\n",
      "21 6307200.0 1440 minutes. High confidence.\n",
      "22 2.0 3.5 minutes. Moderate confidence, as the conversation could be slightly shorter or longer depending on the pacing of their dialogue.\n",
      "23 2.0 1440 minutes. High confidence.\n",
      "24 2.0 5040 minutes. Low confidence, as the estimate is based on speculation.\n",
      "25 1152.0 900 minutes. Moderate confidence.\n",
      "PEARSON: (0.6661835889149152, 0.00027747192430808575)\n",
      "\n",
      "26 1.9 3.5 minutes. Moderate confidence, as the conversation's length is estimated based on the content and emotional intensity.\n",
      "27 1440.0 75 minutes. Moderate confidence, as the duration of the walk is uncertain.\n",
      "28 7200.0 3600 minutes. High confidence.\n",
      "29 1.9 7.5 minutes. Moderate confidence.\n",
      "30 2.0 123 minutes. Moderate confidence.\n",
      "31 0 43,200 minutes. Low confidence, as the passage does not describe events happening in real-time, and the time frame is inferred from the mention of books being issued within a month.\n",
      "32 0 2 minutes. High confidence, as the passage is focused on book descriptions and not events or actions.\n",
      "33 1.0 10 minutes. Moderate confidence.\n",
      "34 1.0 7.5 minutes. Low confidence, as the passage is mostly descriptive and does not focus on specific events or actions.\n",
      "35 2.0 3.5 minutes. Moderate confidence.\n",
      "PEARSON: (0.6281006362288712, 5.354680762077098e-05)\n",
      "\n",
      "36 1.0 2 minutes. High confidence.\n",
      "37 1.0 2 minutes. High confidence.\n",
      "38 3.0 3.5 minutes. Moderate confidence.\n",
      "39 7.0 7.5 minutes. Moderate confidence, as the conversation length is an estimate.\n",
      "40 60.0 22.5 minutes. Moderate confidence.\n",
      "41 2.0 4 minutes. Moderate confidence.\n",
      "42 4.0 2 minutes. Moderate confidence.\n",
      "43 120.0 45 minutes. Moderate confidence.\n",
      "44 1440.0 1452.5 minutes. Moderate confidence.\n",
      "45 2.0 4 minutes. Moderate confidence.\n",
      "PEARSON: (0.6729077010918116, 4.109492544421298e-07)\n",
      "\n",
      "46 60.0 52.5 minutes. Moderate confidence.\n",
      "47 3.0 3.5 minutes. Moderate confidence.\n",
      "48 60.0 15 minutes. Moderate confidence.\n",
      "49 13140000.0 5 minutes. Low confidence, as there is no explicit reference to time and the estimate is based on speculation.\n",
      "50 3.0 3.5 minutes. Moderate confidence.\n",
      "51 2.0 3.5 minutes. Moderate confidence.\n",
      "52 1.6 4 minutes. Moderate confidence.\n",
      "53 30.0 15 minutes. Moderate confidence.\n",
      "54 1.4 3.5 minutes. Moderate confidence.\n",
      "55 1.2 10 minutes. Low confidence, due to the speculative nature of the time estimate.\n",
      "PEARSON: (0.6336330849502518, 2.075884431879284e-07)\n",
      "\n",
      "56 2.0 7.5 minutes. Moderate confidence.\n",
      "57 0.7497 7.5 minutes. Moderate confidence, as the passage focuses more on the narrator's emotions and thoughts rather than specific actions or events.\n",
      "58 1.2 2 minutes. Moderate confidence.\n",
      "59 2.0 3.5 minutes. Moderate confidence.\n",
      "60 10080.0 10,800 minutes. Moderate confidence.\n",
      "61 7.0 7.5 minutes. Moderate confidence.\n",
      "62 9.0 5 minutes. Moderate confidence.\n",
      "63 2628000.0 194,400 minutes. Low confidence, due to the lack of explicit time references and the need to estimate based on the concept of hibernation.\n",
      "64 0 0.75 minutes. Moderate confidence.\n",
      "65 10512000.0 1.5 minutes. High confidence.\n",
      "PEARSON: (0.6260858393841121, 2.44018257072632e-08)\n",
      "\n",
      "66 1576800.0 64800 minutes. Low confidence, due to the lack of explicit time references and the focus on the narrator's mindset rather than the actual time it took for the transition.\n",
      "67 2880.0 12.5 minutes. Moderate confidence.\n",
      "68 1.0 4 minutes. Moderate confidence.\n",
      "69 1.0 30 minutes. Low confidence, due to the separate events and lack of explicit time references.\n",
      "70 7.0 7.5 minutes. Moderate confidence.\n",
      "71 2.5 10 minutes. Moderate confidence.\n",
      "72 1.0 10 minutes. High confidence.\n",
      "73 15.0 7.5 minutes. Moderate confidence.\n",
      "74 40320.0 30,240 minutes. Low confidence, due to the uncertainty of the exact duration of the events described.\n",
      "75 10.0 10,080 minutes. Low confidence, due to the uncertainty in the time it took for Christabel to learn to drive and pay for damages.\n",
      "PEARSON: (0.6345077009169492, 9.813411544434854e-10)\n",
      "\n",
      "76 150.0 102 minutes. Moderate confidence.\n",
      "77 2.0 5 minutes. Low confidence, as the passage is mostly descriptive and reflective, with little action to base the time estimate on.\n",
      "78 2628000.0 10 minutes. High confidence, as the passage provides a specific time reference.\n",
      "79 2.0 3.5 minutes. Low confidence, as the passage is more focused on the narrator's thoughts and observations than on specific events or actions.\n",
      "80 5.0 32.5 minutes. Low confidence, due to the uncertainty about the driving time and the unclear time frame of the report about Eddie Bud Boyd.\n",
      "81 5.0 20 minutes. Moderate confidence.\n",
      "82 4.0 3.5 minutes. Moderate confidence.\n",
      "83 25.0 17.5 minutes. Moderate confidence, as the travel time is an estimate.\n",
      "84 5.0 185 minutes. Moderate confidence.\n",
      "85 6.0 90 minutes. Moderate confidence, as the exact time it takes to ride a horse to Strasbourg and gather soldiers is uncertain.\n",
      "PEARSON: (0.609872039069394, 5.814923499271003e-10)\n",
      "\n",
      "86 420.0 240 minutes. Moderate confidence.\n",
      "87 2628000.0 52,560,000 minutes. Moderate confidence.\n",
      "88 7200.0 4680 minutes. Moderate confidence.\n",
      "89 0 30 minutes. Low confidence, as the passage is more focused on the poetic and symbolic aspects of the scene rather than providing a clear sense of time.\n",
      "90 2.0 3.5 minutes. Moderate confidence.\n",
      "91 6.0 3.5 minutes. Moderate confidence.\n",
      "92 5.0 7.5 minutes. Moderate confidence.\n",
      "93 20160.0 1 minute. High confidence.\n",
      "94 141120.0 64800 minutes. Low confidence, due to the lack of specific time references and the need for speculation.\n",
      "95 2.5 3 minutes. High confidence.\n",
      "PEARSON: (0.6274634020246502, 1.0157575286038143e-11)\n",
      "\n",
      "96 10080.0 8640 minutes. High confidence.\n",
      "97 1440.0 140 minutes. Moderate confidence.\n",
      "98 10.0 7.5 minutes. Moderate confidence.\n",
      "99 5.0 7.5 minutes. Moderate confidence, as the exact duration of the lecture and conversation is not specified.\n",
      "100 3.0 23 minutes. Moderate confidence.\n",
      "101 2.0 25,200 minutes. Low confidence, as the exact duration of the vacation is not specified.\n",
      "102 14400.0 14400 minutes. High confidence.\n",
      "103 10080.0 10080 minutes. Moderate confidence, as the childhood memory is not counted as time passing in the scene.\n",
      "104 2.0 3.5 minutes. Moderate confidence.\n",
      "105 25.0 15 minutes. Moderate confidence.\n",
      "PEARSON: (0.6232888930745262, 1.2396782229825008e-12)\n",
      "\n",
      "106 10080.0 1440 minutes. Moderate confidence.\n",
      "107 8.0 10 minutes. Moderate confidence.\n",
      "108 2.0 3 minutes. Moderate confidence.\n",
      "109 120.0 120 minutes. High confidence.\n",
      "110 2.0 453,600 minutes. Moderate confidence.\n",
      "111 3500000.0 3938400 minutes. Low confidence, due to the wide range of possible time spans.\n",
      "112 525600.0 262800 minutes. Low confidence, due to the speculative nature of the time estimate.\n",
      "113 20160.0 720 minutes. Low confidence, as the estimate is based on speculation.\n",
      "114 10080.0 75 minutes. Moderate confidence.\n",
      "115 1440.0 30 minutes. Low confidence, as there is no explicit reference to time and the estimate is based on speculation.\n",
      "PEARSON: (0.6231587809282915, 1.0290271169511979e-13)\n",
      "\n",
      "116 120.0 3.5 minutes. Moderate confidence, as the conversation could be shorter or longer depending on the pace of the dialogue.\n",
      "117 5.0 3.5 minutes. Moderate confidence.\n",
      "118 2.0 3.5 minutes. Moderate confidence.\n",
      "119 2.0 3.5 minutes. Moderate confidence.\n",
      "120 20160.0 5040 minutes. Low confidence, due to the lack of explicit time references and the need for speculation.\n",
      "121 2102400.0 2102400 minutes. High confidence.\n",
      "122 5.0 6 minutes. Low confidence, as the conversation's length is not explicitly stated and could vary depending on the pace of the discussion.\n",
      "123 5.0 7.5 minutes. Moderate confidence.\n",
      "124 2880.0 180 minutes. Moderate confidence.\n",
      "125 10080.0 1440 minutes. Low confidence, as the passage does not provide clear information about the time elapsed.\n",
      "PEARSON: (0.6469939605384247, 3.5947094617018895e-16)\n",
      "\n"
     ]
    },
    {
     "ename": "KeyboardInterrupt",
     "evalue": "",
     "output_type": "error",
     "traceback": [
      "\u001b[0;31m---------------------------------------------------------------------------\u001b[0m",
      "\u001b[0;31mKeyboardInterrupt\u001b[0m                         Traceback (most recent call last)",
      "\u001b[0;32m<ipython-input-19-e683b16aa978>\u001b[0m in \u001b[0;36m<module>\u001b[0;34m\u001b[0m\n\u001b[1;32m     45\u001b[0m             \u001b[0mmessages\u001b[0m \u001b[0;34m=\u001b[0m \u001b[0mp\u001b[0m\u001b[0;34m,\u001b[0m\u001b[0;34m\u001b[0m\u001b[0;34m\u001b[0m\u001b[0m\n\u001b[1;32m     46\u001b[0m             \u001b[0mmax_tokens\u001b[0m \u001b[0;34m=\u001b[0m \u001b[0;36m700\u001b[0m\u001b[0;34m,\u001b[0m\u001b[0;34m\u001b[0m\u001b[0;34m\u001b[0m\u001b[0m\n\u001b[0;32m---> 47\u001b[0;31m             \u001b[0mtemperature\u001b[0m \u001b[0;34m=\u001b[0m \u001b[0;36m0\u001b[0m\u001b[0;34m\u001b[0m\u001b[0;34m\u001b[0m\u001b[0m\n\u001b[0m\u001b[1;32m     48\u001b[0m         )\n\u001b[1;32m     49\u001b[0m     \u001b[0;32mexcept\u001b[0m \u001b[0mopenai\u001b[0m\u001b[0;34m.\u001b[0m\u001b[0merror\u001b[0m\u001b[0;34m.\u001b[0m\u001b[0mInvalidRequestError\u001b[0m\u001b[0;34m:\u001b[0m\u001b[0;34m\u001b[0m\u001b[0;34m\u001b[0m\u001b[0m\n",
      "\u001b[0;32m~/opt/anaconda3/lib/python3.7/site-packages/backoff/_sync.py\u001b[0m in \u001b[0;36mretry\u001b[0;34m(*args, **kwargs)\u001b[0m\n\u001b[1;32m    103\u001b[0m \u001b[0;34m\u001b[0m\u001b[0m\n\u001b[1;32m    104\u001b[0m             \u001b[0;32mtry\u001b[0m\u001b[0;34m:\u001b[0m\u001b[0;34m\u001b[0m\u001b[0;34m\u001b[0m\u001b[0m\n\u001b[0;32m--> 105\u001b[0;31m                 \u001b[0mret\u001b[0m \u001b[0;34m=\u001b[0m \u001b[0mtarget\u001b[0m\u001b[0;34m(\u001b[0m\u001b[0;34m*\u001b[0m\u001b[0margs\u001b[0m\u001b[0;34m,\u001b[0m \u001b[0;34m**\u001b[0m\u001b[0mkwargs\u001b[0m\u001b[0;34m)\u001b[0m\u001b[0;34m\u001b[0m\u001b[0;34m\u001b[0m\u001b[0m\n\u001b[0m\u001b[1;32m    106\u001b[0m             \u001b[0;32mexcept\u001b[0m \u001b[0mexception\u001b[0m \u001b[0;32mas\u001b[0m \u001b[0me\u001b[0m\u001b[0;34m:\u001b[0m\u001b[0;34m\u001b[0m\u001b[0;34m\u001b[0m\u001b[0m\n\u001b[1;32m    107\u001b[0m                 \u001b[0mmax_tries_exceeded\u001b[0m \u001b[0;34m=\u001b[0m \u001b[0;34m(\u001b[0m\u001b[0mtries\u001b[0m \u001b[0;34m==\u001b[0m \u001b[0mmax_tries_value\u001b[0m\u001b[0;34m)\u001b[0m\u001b[0;34m\u001b[0m\u001b[0;34m\u001b[0m\u001b[0m\n",
      "\u001b[0;32m<ipython-input-1-c5693060a2a6>\u001b[0m in \u001b[0;36mcompletions_with_backoff\u001b[0;34m(**kwargs)\u001b[0m\n\u001b[1;32m     12\u001b[0m \u001b[0;34m@\u001b[0m\u001b[0mbackoff\u001b[0m\u001b[0;34m.\u001b[0m\u001b[0mon_exception\u001b[0m\u001b[0;34m(\u001b[0m\u001b[0mbackoff\u001b[0m\u001b[0;34m.\u001b[0m\u001b[0mexpo\u001b[0m\u001b[0;34m,\u001b[0m \u001b[0mopenai\u001b[0m\u001b[0;34m.\u001b[0m\u001b[0merror\u001b[0m\u001b[0;34m.\u001b[0m\u001b[0mRateLimitError\u001b[0m\u001b[0;34m)\u001b[0m\u001b[0;34m\u001b[0m\u001b[0;34m\u001b[0m\u001b[0m\n\u001b[1;32m     13\u001b[0m \u001b[0;32mdef\u001b[0m \u001b[0mcompletions_with_backoff\u001b[0m\u001b[0;34m(\u001b[0m\u001b[0;34m**\u001b[0m\u001b[0mkwargs\u001b[0m\u001b[0;34m)\u001b[0m\u001b[0;34m:\u001b[0m\u001b[0;34m\u001b[0m\u001b[0;34m\u001b[0m\u001b[0m\n\u001b[0;32m---> 14\u001b[0;31m     \u001b[0;32mreturn\u001b[0m \u001b[0mopenai\u001b[0m\u001b[0;34m.\u001b[0m\u001b[0mChatCompletion\u001b[0m\u001b[0;34m.\u001b[0m\u001b[0mcreate\u001b[0m\u001b[0;34m(\u001b[0m\u001b[0;34m**\u001b[0m\u001b[0mkwargs\u001b[0m\u001b[0;34m)\u001b[0m\u001b[0;34m\u001b[0m\u001b[0;34m\u001b[0m\u001b[0m\n\u001b[0m",
      "\u001b[0;32m~/opt/anaconda3/lib/python3.7/site-packages/openai/api_resources/chat_completion.py\u001b[0m in \u001b[0;36mcreate\u001b[0;34m(cls, *args, **kwargs)\u001b[0m\n\u001b[1;32m     23\u001b[0m         \u001b[0;32mwhile\u001b[0m \u001b[0;32mTrue\u001b[0m\u001b[0;34m:\u001b[0m\u001b[0;34m\u001b[0m\u001b[0;34m\u001b[0m\u001b[0m\n\u001b[1;32m     24\u001b[0m             \u001b[0;32mtry\u001b[0m\u001b[0;34m:\u001b[0m\u001b[0;34m\u001b[0m\u001b[0;34m\u001b[0m\u001b[0m\n\u001b[0;32m---> 25\u001b[0;31m                 \u001b[0;32mreturn\u001b[0m \u001b[0msuper\u001b[0m\u001b[0;34m(\u001b[0m\u001b[0;34m)\u001b[0m\u001b[0;34m.\u001b[0m\u001b[0mcreate\u001b[0m\u001b[0;34m(\u001b[0m\u001b[0;34m*\u001b[0m\u001b[0margs\u001b[0m\u001b[0;34m,\u001b[0m \u001b[0;34m**\u001b[0m\u001b[0mkwargs\u001b[0m\u001b[0;34m)\u001b[0m\u001b[0;34m\u001b[0m\u001b[0;34m\u001b[0m\u001b[0m\n\u001b[0m\u001b[1;32m     26\u001b[0m             \u001b[0;32mexcept\u001b[0m \u001b[0mTryAgain\u001b[0m \u001b[0;32mas\u001b[0m \u001b[0me\u001b[0m\u001b[0;34m:\u001b[0m\u001b[0;34m\u001b[0m\u001b[0;34m\u001b[0m\u001b[0m\n\u001b[1;32m     27\u001b[0m                 \u001b[0;32mif\u001b[0m \u001b[0mtimeout\u001b[0m \u001b[0;32mis\u001b[0m \u001b[0;32mnot\u001b[0m \u001b[0;32mNone\u001b[0m \u001b[0;32mand\u001b[0m \u001b[0mtime\u001b[0m\u001b[0;34m.\u001b[0m\u001b[0mtime\u001b[0m\u001b[0;34m(\u001b[0m\u001b[0;34m)\u001b[0m \u001b[0;34m>\u001b[0m \u001b[0mstart\u001b[0m \u001b[0;34m+\u001b[0m \u001b[0mtimeout\u001b[0m\u001b[0;34m:\u001b[0m\u001b[0;34m\u001b[0m\u001b[0;34m\u001b[0m\u001b[0m\n",
      "\u001b[0;32m~/opt/anaconda3/lib/python3.7/site-packages/openai/api_resources/abstract/engine_api_resource.py\u001b[0m in \u001b[0;36mcreate\u001b[0;34m(cls, api_key, api_base, api_type, request_id, api_version, organization, **params)\u001b[0m\n\u001b[1;32m    158\u001b[0m             \u001b[0mstream\u001b[0m\u001b[0;34m=\u001b[0m\u001b[0mstream\u001b[0m\u001b[0;34m,\u001b[0m\u001b[0;34m\u001b[0m\u001b[0;34m\u001b[0m\u001b[0m\n\u001b[1;32m    159\u001b[0m             \u001b[0mrequest_id\u001b[0m\u001b[0;34m=\u001b[0m\u001b[0mrequest_id\u001b[0m\u001b[0;34m,\u001b[0m\u001b[0;34m\u001b[0m\u001b[0;34m\u001b[0m\u001b[0m\n\u001b[0;32m--> 160\u001b[0;31m             \u001b[0mrequest_timeout\u001b[0m\u001b[0;34m=\u001b[0m\u001b[0mrequest_timeout\u001b[0m\u001b[0;34m,\u001b[0m\u001b[0;34m\u001b[0m\u001b[0;34m\u001b[0m\u001b[0m\n\u001b[0m\u001b[1;32m    161\u001b[0m         )\n\u001b[1;32m    162\u001b[0m \u001b[0;34m\u001b[0m\u001b[0m\n",
      "\u001b[0;32m~/opt/anaconda3/lib/python3.7/site-packages/openai/api_requestor.py\u001b[0m in \u001b[0;36mrequest\u001b[0;34m(self, method, url, params, headers, files, stream, request_id, request_timeout)\u001b[0m\n\u001b[1;32m    222\u001b[0m             \u001b[0mstream\u001b[0m\u001b[0;34m=\u001b[0m\u001b[0mstream\u001b[0m\u001b[0;34m,\u001b[0m\u001b[0;34m\u001b[0m\u001b[0;34m\u001b[0m\u001b[0m\n\u001b[1;32m    223\u001b[0m             \u001b[0mrequest_id\u001b[0m\u001b[0;34m=\u001b[0m\u001b[0mrequest_id\u001b[0m\u001b[0;34m,\u001b[0m\u001b[0;34m\u001b[0m\u001b[0;34m\u001b[0m\u001b[0m\n\u001b[0;32m--> 224\u001b[0;31m             \u001b[0mrequest_timeout\u001b[0m\u001b[0;34m=\u001b[0m\u001b[0mrequest_timeout\u001b[0m\u001b[0;34m,\u001b[0m\u001b[0;34m\u001b[0m\u001b[0;34m\u001b[0m\u001b[0m\n\u001b[0m\u001b[1;32m    225\u001b[0m         )\n\u001b[1;32m    226\u001b[0m         \u001b[0mresp\u001b[0m\u001b[0;34m,\u001b[0m \u001b[0mgot_stream\u001b[0m \u001b[0;34m=\u001b[0m \u001b[0mself\u001b[0m\u001b[0;34m.\u001b[0m\u001b[0m_interpret_response\u001b[0m\u001b[0;34m(\u001b[0m\u001b[0mresult\u001b[0m\u001b[0;34m,\u001b[0m \u001b[0mstream\u001b[0m\u001b[0;34m)\u001b[0m\u001b[0;34m\u001b[0m\u001b[0;34m\u001b[0m\u001b[0m\n",
      "\u001b[0;32m~/opt/anaconda3/lib/python3.7/site-packages/openai/api_requestor.py\u001b[0m in \u001b[0;36mrequest_raw\u001b[0;34m(self, method, url, params, supplied_headers, files, stream, request_id, request_timeout)\u001b[0m\n\u001b[1;32m    521\u001b[0m                 \u001b[0mfiles\u001b[0m\u001b[0;34m=\u001b[0m\u001b[0mfiles\u001b[0m\u001b[0;34m,\u001b[0m\u001b[0;34m\u001b[0m\u001b[0;34m\u001b[0m\u001b[0m\n\u001b[1;32m    522\u001b[0m                 \u001b[0mstream\u001b[0m\u001b[0;34m=\u001b[0m\u001b[0mstream\u001b[0m\u001b[0;34m,\u001b[0m\u001b[0;34m\u001b[0m\u001b[0;34m\u001b[0m\u001b[0m\n\u001b[0;32m--> 523\u001b[0;31m                 \u001b[0mtimeout\u001b[0m\u001b[0;34m=\u001b[0m\u001b[0mrequest_timeout\u001b[0m \u001b[0;32mif\u001b[0m \u001b[0mrequest_timeout\u001b[0m \u001b[0;32melse\u001b[0m \u001b[0mTIMEOUT_SECS\u001b[0m\u001b[0;34m,\u001b[0m\u001b[0;34m\u001b[0m\u001b[0;34m\u001b[0m\u001b[0m\n\u001b[0m\u001b[1;32m    524\u001b[0m             )\n\u001b[1;32m    525\u001b[0m         \u001b[0;32mexcept\u001b[0m \u001b[0mrequests\u001b[0m\u001b[0;34m.\u001b[0m\u001b[0mexceptions\u001b[0m\u001b[0;34m.\u001b[0m\u001b[0mTimeout\u001b[0m \u001b[0;32mas\u001b[0m \u001b[0me\u001b[0m\u001b[0;34m:\u001b[0m\u001b[0;34m\u001b[0m\u001b[0;34m\u001b[0m\u001b[0m\n",
      "\u001b[0;32m~/opt/anaconda3/lib/python3.7/site-packages/requests/sessions.py\u001b[0m in \u001b[0;36mrequest\u001b[0;34m(self, method, url, params, data, headers, cookies, files, auth, timeout, allow_redirects, proxies, hooks, stream, verify, cert, json)\u001b[0m\n\u001b[1;32m    540\u001b[0m         }\n\u001b[1;32m    541\u001b[0m         \u001b[0msend_kwargs\u001b[0m\u001b[0;34m.\u001b[0m\u001b[0mupdate\u001b[0m\u001b[0;34m(\u001b[0m\u001b[0msettings\u001b[0m\u001b[0;34m)\u001b[0m\u001b[0;34m\u001b[0m\u001b[0;34m\u001b[0m\u001b[0m\n\u001b[0;32m--> 542\u001b[0;31m         \u001b[0mresp\u001b[0m \u001b[0;34m=\u001b[0m \u001b[0mself\u001b[0m\u001b[0;34m.\u001b[0m\u001b[0msend\u001b[0m\u001b[0;34m(\u001b[0m\u001b[0mprep\u001b[0m\u001b[0;34m,\u001b[0m \u001b[0;34m**\u001b[0m\u001b[0msend_kwargs\u001b[0m\u001b[0;34m)\u001b[0m\u001b[0;34m\u001b[0m\u001b[0;34m\u001b[0m\u001b[0m\n\u001b[0m\u001b[1;32m    543\u001b[0m \u001b[0;34m\u001b[0m\u001b[0m\n\u001b[1;32m    544\u001b[0m         \u001b[0;32mreturn\u001b[0m \u001b[0mresp\u001b[0m\u001b[0;34m\u001b[0m\u001b[0;34m\u001b[0m\u001b[0m\n",
      "\u001b[0;32m~/opt/anaconda3/lib/python3.7/site-packages/requests/sessions.py\u001b[0m in \u001b[0;36msend\u001b[0;34m(self, request, **kwargs)\u001b[0m\n\u001b[1;32m    653\u001b[0m \u001b[0;34m\u001b[0m\u001b[0m\n\u001b[1;32m    654\u001b[0m         \u001b[0;31m# Send the request\u001b[0m\u001b[0;34m\u001b[0m\u001b[0;34m\u001b[0m\u001b[0;34m\u001b[0m\u001b[0m\n\u001b[0;32m--> 655\u001b[0;31m         \u001b[0mr\u001b[0m \u001b[0;34m=\u001b[0m \u001b[0madapter\u001b[0m\u001b[0;34m.\u001b[0m\u001b[0msend\u001b[0m\u001b[0;34m(\u001b[0m\u001b[0mrequest\u001b[0m\u001b[0;34m,\u001b[0m \u001b[0;34m**\u001b[0m\u001b[0mkwargs\u001b[0m\u001b[0;34m)\u001b[0m\u001b[0;34m\u001b[0m\u001b[0;34m\u001b[0m\u001b[0m\n\u001b[0m\u001b[1;32m    656\u001b[0m \u001b[0;34m\u001b[0m\u001b[0m\n\u001b[1;32m    657\u001b[0m         \u001b[0;31m# Total elapsed time of the request (approximately)\u001b[0m\u001b[0;34m\u001b[0m\u001b[0;34m\u001b[0m\u001b[0;34m\u001b[0m\u001b[0m\n",
      "\u001b[0;32m~/opt/anaconda3/lib/python3.7/site-packages/requests/adapters.py\u001b[0m in \u001b[0;36msend\u001b[0;34m(self, request, stream, timeout, verify, cert, proxies)\u001b[0m\n\u001b[1;32m    447\u001b[0m                     \u001b[0mdecode_content\u001b[0m\u001b[0;34m=\u001b[0m\u001b[0;32mFalse\u001b[0m\u001b[0;34m,\u001b[0m\u001b[0;34m\u001b[0m\u001b[0;34m\u001b[0m\u001b[0m\n\u001b[1;32m    448\u001b[0m                     \u001b[0mretries\u001b[0m\u001b[0;34m=\u001b[0m\u001b[0mself\u001b[0m\u001b[0;34m.\u001b[0m\u001b[0mmax_retries\u001b[0m\u001b[0;34m,\u001b[0m\u001b[0;34m\u001b[0m\u001b[0;34m\u001b[0m\u001b[0m\n\u001b[0;32m--> 449\u001b[0;31m                     \u001b[0mtimeout\u001b[0m\u001b[0;34m=\u001b[0m\u001b[0mtimeout\u001b[0m\u001b[0;34m\u001b[0m\u001b[0;34m\u001b[0m\u001b[0m\n\u001b[0m\u001b[1;32m    450\u001b[0m                 )\n\u001b[1;32m    451\u001b[0m \u001b[0;34m\u001b[0m\u001b[0m\n",
      "\u001b[0;32m~/opt/anaconda3/lib/python3.7/site-packages/urllib3/connectionpool.py\u001b[0m in \u001b[0;36murlopen\u001b[0;34m(self, method, url, body, headers, retries, redirect, assert_same_host, timeout, pool_timeout, release_conn, chunked, body_pos, **response_kw)\u001b[0m\n\u001b[1;32m    704\u001b[0m                 \u001b[0mbody\u001b[0m\u001b[0;34m=\u001b[0m\u001b[0mbody\u001b[0m\u001b[0;34m,\u001b[0m\u001b[0;34m\u001b[0m\u001b[0;34m\u001b[0m\u001b[0m\n\u001b[1;32m    705\u001b[0m                 \u001b[0mheaders\u001b[0m\u001b[0;34m=\u001b[0m\u001b[0mheaders\u001b[0m\u001b[0;34m,\u001b[0m\u001b[0;34m\u001b[0m\u001b[0;34m\u001b[0m\u001b[0m\n\u001b[0;32m--> 706\u001b[0;31m                 \u001b[0mchunked\u001b[0m\u001b[0;34m=\u001b[0m\u001b[0mchunked\u001b[0m\u001b[0;34m,\u001b[0m\u001b[0;34m\u001b[0m\u001b[0;34m\u001b[0m\u001b[0m\n\u001b[0m\u001b[1;32m    707\u001b[0m             )\n\u001b[1;32m    708\u001b[0m \u001b[0;34m\u001b[0m\u001b[0m\n",
      "\u001b[0;32m~/opt/anaconda3/lib/python3.7/site-packages/urllib3/connectionpool.py\u001b[0m in \u001b[0;36m_make_request\u001b[0;34m(self, conn, method, url, timeout, chunked, **httplib_request_kw)\u001b[0m\n\u001b[1;32m    443\u001b[0m                     \u001b[0;31m# Python 3 (including for exceptions like SystemExit).\u001b[0m\u001b[0;34m\u001b[0m\u001b[0;34m\u001b[0m\u001b[0;34m\u001b[0m\u001b[0m\n\u001b[1;32m    444\u001b[0m                     \u001b[0;31m# Otherwise it looks like a bug in the code.\u001b[0m\u001b[0;34m\u001b[0m\u001b[0;34m\u001b[0m\u001b[0;34m\u001b[0m\u001b[0m\n\u001b[0;32m--> 445\u001b[0;31m                     \u001b[0msix\u001b[0m\u001b[0;34m.\u001b[0m\u001b[0mraise_from\u001b[0m\u001b[0;34m(\u001b[0m\u001b[0me\u001b[0m\u001b[0;34m,\u001b[0m \u001b[0;32mNone\u001b[0m\u001b[0;34m)\u001b[0m\u001b[0;34m\u001b[0m\u001b[0;34m\u001b[0m\u001b[0m\n\u001b[0m\u001b[1;32m    446\u001b[0m         \u001b[0;32mexcept\u001b[0m \u001b[0;34m(\u001b[0m\u001b[0mSocketTimeout\u001b[0m\u001b[0;34m,\u001b[0m \u001b[0mBaseSSLError\u001b[0m\u001b[0;34m,\u001b[0m \u001b[0mSocketError\u001b[0m\u001b[0;34m)\u001b[0m \u001b[0;32mas\u001b[0m \u001b[0me\u001b[0m\u001b[0;34m:\u001b[0m\u001b[0;34m\u001b[0m\u001b[0;34m\u001b[0m\u001b[0m\n\u001b[1;32m    447\u001b[0m             \u001b[0mself\u001b[0m\u001b[0;34m.\u001b[0m\u001b[0m_raise_timeout\u001b[0m\u001b[0;34m(\u001b[0m\u001b[0merr\u001b[0m\u001b[0;34m=\u001b[0m\u001b[0me\u001b[0m\u001b[0;34m,\u001b[0m \u001b[0murl\u001b[0m\u001b[0;34m=\u001b[0m\u001b[0murl\u001b[0m\u001b[0;34m,\u001b[0m \u001b[0mtimeout_value\u001b[0m\u001b[0;34m=\u001b[0m\u001b[0mread_timeout\u001b[0m\u001b[0;34m)\u001b[0m\u001b[0;34m\u001b[0m\u001b[0;34m\u001b[0m\u001b[0m\n",
      "\u001b[0;32m~/opt/anaconda3/lib/python3.7/site-packages/urllib3/packages/six.py\u001b[0m in \u001b[0;36mraise_from\u001b[0;34m(value, from_value)\u001b[0m\n",
      "\u001b[0;32m~/opt/anaconda3/lib/python3.7/site-packages/urllib3/connectionpool.py\u001b[0m in \u001b[0;36m_make_request\u001b[0;34m(self, conn, method, url, timeout, chunked, **httplib_request_kw)\u001b[0m\n\u001b[1;32m    438\u001b[0m                 \u001b[0;31m# Python 3\u001b[0m\u001b[0;34m\u001b[0m\u001b[0;34m\u001b[0m\u001b[0;34m\u001b[0m\u001b[0m\n\u001b[1;32m    439\u001b[0m                 \u001b[0;32mtry\u001b[0m\u001b[0;34m:\u001b[0m\u001b[0;34m\u001b[0m\u001b[0;34m\u001b[0m\u001b[0m\n\u001b[0;32m--> 440\u001b[0;31m                     \u001b[0mhttplib_response\u001b[0m \u001b[0;34m=\u001b[0m \u001b[0mconn\u001b[0m\u001b[0;34m.\u001b[0m\u001b[0mgetresponse\u001b[0m\u001b[0;34m(\u001b[0m\u001b[0;34m)\u001b[0m\u001b[0;34m\u001b[0m\u001b[0;34m\u001b[0m\u001b[0m\n\u001b[0m\u001b[1;32m    441\u001b[0m                 \u001b[0;32mexcept\u001b[0m \u001b[0mBaseException\u001b[0m \u001b[0;32mas\u001b[0m \u001b[0me\u001b[0m\u001b[0;34m:\u001b[0m\u001b[0;34m\u001b[0m\u001b[0;34m\u001b[0m\u001b[0m\n\u001b[1;32m    442\u001b[0m                     \u001b[0;31m# Remove the TypeError from the exception chain in\u001b[0m\u001b[0;34m\u001b[0m\u001b[0;34m\u001b[0m\u001b[0;34m\u001b[0m\u001b[0m\n",
      "\u001b[0;32m~/opt/anaconda3/lib/python3.7/http/client.py\u001b[0m in \u001b[0;36mgetresponse\u001b[0;34m(self)\u001b[0m\n\u001b[1;32m   1342\u001b[0m         \u001b[0;32mtry\u001b[0m\u001b[0;34m:\u001b[0m\u001b[0;34m\u001b[0m\u001b[0;34m\u001b[0m\u001b[0m\n\u001b[1;32m   1343\u001b[0m             \u001b[0;32mtry\u001b[0m\u001b[0;34m:\u001b[0m\u001b[0;34m\u001b[0m\u001b[0;34m\u001b[0m\u001b[0m\n\u001b[0;32m-> 1344\u001b[0;31m                 \u001b[0mresponse\u001b[0m\u001b[0;34m.\u001b[0m\u001b[0mbegin\u001b[0m\u001b[0;34m(\u001b[0m\u001b[0;34m)\u001b[0m\u001b[0;34m\u001b[0m\u001b[0;34m\u001b[0m\u001b[0m\n\u001b[0m\u001b[1;32m   1345\u001b[0m             \u001b[0;32mexcept\u001b[0m \u001b[0mConnectionError\u001b[0m\u001b[0;34m:\u001b[0m\u001b[0;34m\u001b[0m\u001b[0;34m\u001b[0m\u001b[0m\n\u001b[1;32m   1346\u001b[0m                 \u001b[0mself\u001b[0m\u001b[0;34m.\u001b[0m\u001b[0mclose\u001b[0m\u001b[0;34m(\u001b[0m\u001b[0;34m)\u001b[0m\u001b[0;34m\u001b[0m\u001b[0;34m\u001b[0m\u001b[0m\n",
      "\u001b[0;32m~/opt/anaconda3/lib/python3.7/http/client.py\u001b[0m in \u001b[0;36mbegin\u001b[0;34m(self)\u001b[0m\n\u001b[1;32m    304\u001b[0m         \u001b[0;31m# read until we get a non-100 response\u001b[0m\u001b[0;34m\u001b[0m\u001b[0;34m\u001b[0m\u001b[0;34m\u001b[0m\u001b[0m\n\u001b[1;32m    305\u001b[0m         \u001b[0;32mwhile\u001b[0m \u001b[0;32mTrue\u001b[0m\u001b[0;34m:\u001b[0m\u001b[0;34m\u001b[0m\u001b[0;34m\u001b[0m\u001b[0m\n\u001b[0;32m--> 306\u001b[0;31m             \u001b[0mversion\u001b[0m\u001b[0;34m,\u001b[0m \u001b[0mstatus\u001b[0m\u001b[0;34m,\u001b[0m \u001b[0mreason\u001b[0m \u001b[0;34m=\u001b[0m \u001b[0mself\u001b[0m\u001b[0;34m.\u001b[0m\u001b[0m_read_status\u001b[0m\u001b[0;34m(\u001b[0m\u001b[0;34m)\u001b[0m\u001b[0;34m\u001b[0m\u001b[0;34m\u001b[0m\u001b[0m\n\u001b[0m\u001b[1;32m    307\u001b[0m             \u001b[0;32mif\u001b[0m \u001b[0mstatus\u001b[0m \u001b[0;34m!=\u001b[0m \u001b[0mCONTINUE\u001b[0m\u001b[0;34m:\u001b[0m\u001b[0;34m\u001b[0m\u001b[0;34m\u001b[0m\u001b[0m\n\u001b[1;32m    308\u001b[0m                 \u001b[0;32mbreak\u001b[0m\u001b[0;34m\u001b[0m\u001b[0;34m\u001b[0m\u001b[0m\n",
      "\u001b[0;32m~/opt/anaconda3/lib/python3.7/http/client.py\u001b[0m in \u001b[0;36m_read_status\u001b[0;34m(self)\u001b[0m\n\u001b[1;32m    265\u001b[0m \u001b[0;34m\u001b[0m\u001b[0m\n\u001b[1;32m    266\u001b[0m     \u001b[0;32mdef\u001b[0m \u001b[0m_read_status\u001b[0m\u001b[0;34m(\u001b[0m\u001b[0mself\u001b[0m\u001b[0;34m)\u001b[0m\u001b[0;34m:\u001b[0m\u001b[0;34m\u001b[0m\u001b[0;34m\u001b[0m\u001b[0m\n\u001b[0;32m--> 267\u001b[0;31m         \u001b[0mline\u001b[0m \u001b[0;34m=\u001b[0m \u001b[0mstr\u001b[0m\u001b[0;34m(\u001b[0m\u001b[0mself\u001b[0m\u001b[0;34m.\u001b[0m\u001b[0mfp\u001b[0m\u001b[0;34m.\u001b[0m\u001b[0mreadline\u001b[0m\u001b[0;34m(\u001b[0m\u001b[0m_MAXLINE\u001b[0m \u001b[0;34m+\u001b[0m \u001b[0;36m1\u001b[0m\u001b[0;34m)\u001b[0m\u001b[0;34m,\u001b[0m \u001b[0;34m\"iso-8859-1\"\u001b[0m\u001b[0;34m)\u001b[0m\u001b[0;34m\u001b[0m\u001b[0;34m\u001b[0m\u001b[0m\n\u001b[0m\u001b[1;32m    268\u001b[0m         \u001b[0;32mif\u001b[0m \u001b[0mlen\u001b[0m\u001b[0;34m(\u001b[0m\u001b[0mline\u001b[0m\u001b[0;34m)\u001b[0m \u001b[0;34m>\u001b[0m \u001b[0m_MAXLINE\u001b[0m\u001b[0;34m:\u001b[0m\u001b[0;34m\u001b[0m\u001b[0;34m\u001b[0m\u001b[0m\n\u001b[1;32m    269\u001b[0m             \u001b[0;32mraise\u001b[0m \u001b[0mLineTooLong\u001b[0m\u001b[0;34m(\u001b[0m\u001b[0;34m\"status line\"\u001b[0m\u001b[0;34m)\u001b[0m\u001b[0;34m\u001b[0m\u001b[0;34m\u001b[0m\u001b[0m\n",
      "\u001b[0;32m~/opt/anaconda3/lib/python3.7/socket.py\u001b[0m in \u001b[0;36mreadinto\u001b[0;34m(self, b)\u001b[0m\n\u001b[1;32m    587\u001b[0m         \u001b[0;32mwhile\u001b[0m \u001b[0;32mTrue\u001b[0m\u001b[0;34m:\u001b[0m\u001b[0;34m\u001b[0m\u001b[0;34m\u001b[0m\u001b[0m\n\u001b[1;32m    588\u001b[0m             \u001b[0;32mtry\u001b[0m\u001b[0;34m:\u001b[0m\u001b[0;34m\u001b[0m\u001b[0;34m\u001b[0m\u001b[0m\n\u001b[0;32m--> 589\u001b[0;31m                 \u001b[0;32mreturn\u001b[0m \u001b[0mself\u001b[0m\u001b[0;34m.\u001b[0m\u001b[0m_sock\u001b[0m\u001b[0;34m.\u001b[0m\u001b[0mrecv_into\u001b[0m\u001b[0;34m(\u001b[0m\u001b[0mb\u001b[0m\u001b[0;34m)\u001b[0m\u001b[0;34m\u001b[0m\u001b[0;34m\u001b[0m\u001b[0m\n\u001b[0m\u001b[1;32m    590\u001b[0m             \u001b[0;32mexcept\u001b[0m \u001b[0mtimeout\u001b[0m\u001b[0;34m:\u001b[0m\u001b[0;34m\u001b[0m\u001b[0;34m\u001b[0m\u001b[0m\n\u001b[1;32m    591\u001b[0m                 \u001b[0mself\u001b[0m\u001b[0;34m.\u001b[0m\u001b[0m_timeout_occurred\u001b[0m \u001b[0;34m=\u001b[0m \u001b[0;32mTrue\u001b[0m\u001b[0;34m\u001b[0m\u001b[0;34m\u001b[0m\u001b[0m\n",
      "\u001b[0;32m~/opt/anaconda3/lib/python3.7/ssl.py\u001b[0m in \u001b[0;36mrecv_into\u001b[0;34m(self, buffer, nbytes, flags)\u001b[0m\n\u001b[1;32m   1069\u001b[0m                   \u001b[0;34m\"non-zero flags not allowed in calls to recv_into() on %s\"\u001b[0m \u001b[0;34m%\u001b[0m\u001b[0;34m\u001b[0m\u001b[0;34m\u001b[0m\u001b[0m\n\u001b[1;32m   1070\u001b[0m                   self.__class__)\n\u001b[0;32m-> 1071\u001b[0;31m             \u001b[0;32mreturn\u001b[0m \u001b[0mself\u001b[0m\u001b[0;34m.\u001b[0m\u001b[0mread\u001b[0m\u001b[0;34m(\u001b[0m\u001b[0mnbytes\u001b[0m\u001b[0;34m,\u001b[0m \u001b[0mbuffer\u001b[0m\u001b[0;34m)\u001b[0m\u001b[0;34m\u001b[0m\u001b[0;34m\u001b[0m\u001b[0m\n\u001b[0m\u001b[1;32m   1072\u001b[0m         \u001b[0;32melse\u001b[0m\u001b[0;34m:\u001b[0m\u001b[0;34m\u001b[0m\u001b[0;34m\u001b[0m\u001b[0m\n\u001b[1;32m   1073\u001b[0m             \u001b[0;32mreturn\u001b[0m \u001b[0msuper\u001b[0m\u001b[0;34m(\u001b[0m\u001b[0;34m)\u001b[0m\u001b[0;34m.\u001b[0m\u001b[0mrecv_into\u001b[0m\u001b[0;34m(\u001b[0m\u001b[0mbuffer\u001b[0m\u001b[0;34m,\u001b[0m \u001b[0mnbytes\u001b[0m\u001b[0;34m,\u001b[0m \u001b[0mflags\u001b[0m\u001b[0;34m)\u001b[0m\u001b[0;34m\u001b[0m\u001b[0;34m\u001b[0m\u001b[0m\n",
      "\u001b[0;32m~/opt/anaconda3/lib/python3.7/ssl.py\u001b[0m in \u001b[0;36mread\u001b[0;34m(self, len, buffer)\u001b[0m\n\u001b[1;32m    927\u001b[0m         \u001b[0;32mtry\u001b[0m\u001b[0;34m:\u001b[0m\u001b[0;34m\u001b[0m\u001b[0;34m\u001b[0m\u001b[0m\n\u001b[1;32m    928\u001b[0m             \u001b[0;32mif\u001b[0m \u001b[0mbuffer\u001b[0m \u001b[0;32mis\u001b[0m \u001b[0;32mnot\u001b[0m \u001b[0;32mNone\u001b[0m\u001b[0;34m:\u001b[0m\u001b[0;34m\u001b[0m\u001b[0;34m\u001b[0m\u001b[0m\n\u001b[0;32m--> 929\u001b[0;31m                 \u001b[0;32mreturn\u001b[0m \u001b[0mself\u001b[0m\u001b[0;34m.\u001b[0m\u001b[0m_sslobj\u001b[0m\u001b[0;34m.\u001b[0m\u001b[0mread\u001b[0m\u001b[0;34m(\u001b[0m\u001b[0mlen\u001b[0m\u001b[0;34m,\u001b[0m \u001b[0mbuffer\u001b[0m\u001b[0;34m)\u001b[0m\u001b[0;34m\u001b[0m\u001b[0;34m\u001b[0m\u001b[0m\n\u001b[0m\u001b[1;32m    930\u001b[0m             \u001b[0;32melse\u001b[0m\u001b[0;34m:\u001b[0m\u001b[0;34m\u001b[0m\u001b[0;34m\u001b[0m\u001b[0m\n\u001b[1;32m    931\u001b[0m                 \u001b[0;32mreturn\u001b[0m \u001b[0mself\u001b[0m\u001b[0;34m.\u001b[0m\u001b[0m_sslobj\u001b[0m\u001b[0;34m.\u001b[0m\u001b[0mread\u001b[0m\u001b[0;34m(\u001b[0m\u001b[0mlen\u001b[0m\u001b[0;34m)\u001b[0m\u001b[0;34m\u001b[0m\u001b[0;34m\u001b[0m\u001b[0m\n",
      "\u001b[0;31mKeyboardInterrupt\u001b[0m: "
     ]
    }
   ],
   "source": [
    "prefix = \"Read the following passage of fiction. Then do five things. \\\n",
    "1: Briefly summarize the passage.\\n \\\n",
    "2: Reason step by step to decide how much time is described in the passage. \\\n",
    "If the passage doesn't include any explicit reference to time, you can guess how much time the events described would have taken. \\\n",
    "Even description can imply the passage of time by mentioning the earlier history of people or buildings. \\\n",
    "But characters' references to the past or future in spoken dialogue should not count as time that passed in the scene. \\\n",
    "Report the time using units of years, weeks, days, hours, or minutes. Do not say zero or N/A.\\n \\\n",
    "3: If you described a range of possible times in step 2 take the midpoint of the range. \\\n",
    "Then multiply to convert the units into minutes. \\n\\\n",
    "4: Report only the number of minutes elapsed, which should match the number in step 3. Do not reply N/A. \\n\\\n",
    "5: Given the amount of speculation required in step 2, describe your certainty about the estimate--either high, moderate, or low.\\n \\\n",
    "The passage follows: \\n\"\n",
    "\n",
    "results = []\n",
    "ctr = 0\n",
    "\n",
    "for textpair, timepair in zip(texts[ctr:], times[ctr:]):\n",
    "    neworder = [0,1,2,3]\n",
    "    random.shuffle(neworder)\n",
    "    ctr += 1\n",
    "    \n",
    "    segidA, text = textpair\n",
    "    segidB, time = timepair\n",
    "    assert segidA == segidB\n",
    "    \n",
    "    prompt = [{\"role\": \"system\", \"content\": \"You are analyzing fiction to estimate how much fictive time elapses in a given passage. You are willing to speculate if uncertain.\"},\n",
    "          {\"role\": \"user\", \"content\": user_prompts[neworder[0]]}, \n",
    "            {\"role\": \"assistant\", \"content\": assistant_prompts[neworder[0]]},\n",
    "            {\"role\": \"user\", \"content\": user_prompts[neworder[1]]},\n",
    "            {\"role\": \"assistant\", \"content\": assistant_prompts[neworder[1]]},\n",
    "            {\"role\": \"user\", \"content\": user_prompts[neworder[2]]},\n",
    "            {\"role\": \"assistant\", \"content\": assistant_prompts[neworder[2]]},\n",
    "            {\"role\": \"user\", \"content\": user_prompts[neworder[3]]},\n",
    "            {\"role\": \"assistant\", \"content\": assistant_prompts[neworder[3]]}]\n",
    "    \n",
    "    text = text.replace('\\n', ' ').replace('\\u2019', \"'\").replace('\\t', ' ').replace('  ', ' ')\n",
    "    fulltext = prefix + text\n",
    "    userline = {\"role\": \"user\", \"content\": fulltext}\n",
    "    \n",
    "    p = list(prompt)\n",
    "    p.append(userline)\n",
    "    try:\n",
    "        completion = completions_with_backoff(\n",
    "            model = \"gpt-4\",\n",
    "            messages = p,\n",
    "            max_tokens = 700,\n",
    "            temperature = 0\n",
    "        )\n",
    "    except openai.error.InvalidRequestError:\n",
    "        print('ERROR in API')\n",
    "        print(fulltext)\n",
    "        results.append((ctr, segidA, text, time, 0, neworder, 'API ERROR', \"\"))\n",
    "        continue\n",
    "        \n",
    "    parts = parse_response(completion['choices'][0]['message']['content'])\n",
    "    print(ctr, time, parts[-2], parts[-1])\n",
    "    # print(completion['choices'][0]['message']['content'])\n",
    "    # print('')\n",
    "    \n",
    "    try:\n",
    "        if ' ' in parts[-2]:\n",
    "            timewords = parts[-2].split(' ')\n",
    "            if len(timewords) > 2 and not timewords[1].startswith('minutes'):\n",
    "                print('ERROR in minutes')\n",
    "                results.append((ctr, segidA, text, time, 0, neworder, \"CALC ERROR\", completion['choices'][0]['message']['content']))\n",
    "                continue\n",
    "                \n",
    "            minutepart = timewords[0].replace(',', '')\n",
    "            if '-' in minutepart:\n",
    "                rangeA = minutepart.split('-')[0]\n",
    "                rangeB = minutepart.split('-')[1]\n",
    "                result_time = (int(rangeA) + int(rangeB)) / 2\n",
    "                print('HYPHEN adjusted')\n",
    "            else:\n",
    "                try:\n",
    "                    result_time = int(minutepart)\n",
    "                except:\n",
    "                    result_time = float(minutepart)\n",
    "                    \n",
    "            units = timewords[1].strip()\n",
    "            if units.startswith('second'):\n",
    "                result_time = result_time / 60\n",
    "                print('SECONDS adjusted')\n",
    "            elif units.startswith('year'):\n",
    "                result_time = result_time * 525600\n",
    "                print('YEARS adjusted')\n",
    "                \n",
    "        else:\n",
    "            result_time = int(parts[-2])\n",
    "            \n",
    "    except:\n",
    "        print('ERROR in minutes')\n",
    "        results.append((ctr, segidA, text, time, 0, neworder, \"CALC ERROR\", completion['choices'][0]['message']['content']))\n",
    "        continue\n",
    "        \n",
    "    results.append((ctr, segidA, text, time, result_time, neworder, \"VALID\", completion['choices'][0]['message']['content']))\n",
    "    if ctr % 10 == 5:\n",
    "        a = []\n",
    "        b = []\n",
    "        for res in results:\n",
    "            if 'ERROR' not in res[6]:\n",
    "                a.append(math.log(res[3] + 0.1))\n",
    "                b.append(math.log(res[4] + 0.1))\n",
    "        print('PEARSON:', pearsonr(a, b))\n",
    "        print()\n",
    "        \n",
    "    "
   ]
  },
  {
   "cell_type": "code",
   "execution_count": 77,
   "id": "5abf2f5c-dc60-4bbe-8065-59fb45f4db75",
   "metadata": {},
   "outputs": [
    {
     "data": {
      "text/plain": [
       "'   '"
      ]
     },
     "execution_count": 77,
     "metadata": {},
     "output_type": "execute_result"
    }
   ],
   "source": [
    "text"
   ]
  },
  {
   "cell_type": "code",
   "execution_count": 24,
   "id": "4e55bcc0-0dfe-4632-a5a3-f34a719816e3",
   "metadata": {},
   "outputs": [],
   "source": [
    "a = []\n",
    "b = []\n",
    "for res in results:\n",
    "    if 'ERROR' not in res[6]:\n",
    "        a.append(math.log(res[3] + 0.1))\n",
    "        b.append(math.log(res[4] + 0.1))"
   ]
  },
  {
   "cell_type": "code",
   "execution_count": 25,
   "id": "246b7f57-2a46-49fd-8a65-c55523665b7b",
   "metadata": {},
   "outputs": [
    {
     "data": {
      "text/plain": [
       "(0.6469939605384247, 3.5947094617018895e-16)"
      ]
     },
     "execution_count": 25,
     "metadata": {},
     "output_type": "execute_result"
    }
   ],
   "source": [
    "pearsonr(a, b)"
   ]
  },
  {
   "cell_type": "code",
   "execution_count": 23,
   "id": "34a54e21-dcf9-4c6f-a94f-8192a8da09b5",
   "metadata": {},
   "outputs": [
    {
     "data": {
      "text/plain": [
       "(0.068187140974503, 0.4499031199474439)"
      ]
     },
     "execution_count": 23,
     "metadata": {},
     "output_type": "execute_result"
    }
   ],
   "source": [
    "a = []\n",
    "b = []\n",
    "for res in results:\n",
    "    if 'ERROR' not in res[6]:\n",
    "        a.append(res[3] + 0.1)\n",
    "        b.append(res[4] + 0.1)\n",
    "pearsonr(a ,b)"
   ]
  },
  {
   "cell_type": "code",
   "execution_count": 20,
   "id": "33ea3095-bc35-4856-b2c5-f625265624ca",
   "metadata": {},
   "outputs": [],
   "source": [
    "with open('outputGPT4.tsv', encoding = 'utf-8', mode = 'w') as f:\n",
    "    for res in results:\n",
    "        outputline = '\\t'.join([str(x).replace('\\n', ' ').replace('\"', \"'\") for x in res]) + '\\n'\n",
    "        f.write(outputline)"
   ]
  },
  {
   "cell_type": "markdown",
   "id": "b91173f3-8fdb-4b08-9b4c-24c21cc0749f",
   "metadata": {},
   "source": [
    "### Final calculation after removing training examples, etc from the output"
   ]
  },
  {
   "cell_type": "code",
   "execution_count": 26,
   "id": "aa8a39fe-e4d9-41ef-acd9-cb00be6245d3",
   "metadata": {},
   "outputs": [],
   "source": [
    "import pandas as pd"
   ]
  },
  {
   "cell_type": "code",
   "execution_count": 31,
   "id": "0fc17341-e7ad-422c-b25e-ccac8ab2764d",
   "metadata": {},
   "outputs": [],
   "source": [
    "corrected_data = pd.read_csv('outputGPT4.tsv', sep = '\\t', header = None)"
   ]
  },
  {
   "cell_type": "code",
   "execution_count": 32,
   "id": "bcc21270-7d70-464a-aab0-e41519367a30",
   "metadata": {},
   "outputs": [
    {
     "data": {
      "text/html": [
       "<div>\n",
       "<style scoped>\n",
       "    .dataframe tbody tr th:only-of-type {\n",
       "        vertical-align: middle;\n",
       "    }\n",
       "\n",
       "    .dataframe tbody tr th {\n",
       "        vertical-align: top;\n",
       "    }\n",
       "\n",
       "    .dataframe thead th {\n",
       "        text-align: right;\n",
       "    }\n",
       "</style>\n",
       "<table border=\"1\" class=\"dataframe\">\n",
       "  <thead>\n",
       "    <tr style=\"text-align: right;\">\n",
       "      <th></th>\n",
       "      <th>0</th>\n",
       "      <th>1</th>\n",
       "      <th>2</th>\n",
       "      <th>3</th>\n",
       "      <th>4</th>\n",
       "      <th>5</th>\n",
       "      <th>6</th>\n",
       "      <th>7</th>\n",
       "    </tr>\n",
       "  </thead>\n",
       "  <tbody>\n",
       "    <tr>\n",
       "      <th>0</th>\n",
       "      <td>1</td>\n",
       "      <td>RadcASR.txt|0|u</td>\n",
       "      <td>A SICILIAN ROMANCE. ON the northern shore of...</td>\n",
       "      <td>52560000.0</td>\n",
       "      <td>45.0</td>\n",
       "      <td>[2, 0, 3, 1]</td>\n",
       "      <td>VALID</td>\n",
       "      <td>1: The narrator describes visiting the ruins o...</td>\n",
       "    </tr>\n",
       "    <tr>\n",
       "      <th>1</th>\n",
       "      <td>3</td>\n",
       "      <td>RadcASR.txt|9|u</td>\n",
       "      <td>They stopped to observe it, when it suddenly d...</td>\n",
       "      <td>120.0</td>\n",
       "      <td>20.0</td>\n",
       "      <td>[3, 1, 2, 0]</td>\n",
       "      <td>VALID</td>\n",
       "      <td>1: Madame de Menon and Vincent observe a stran...</td>\n",
       "    </tr>\n",
       "    <tr>\n",
       "      <th>2</th>\n",
       "      <td>4</td>\n",
       "      <td>RadcASR.txt|90|u</td>\n",
       "      <td>said he, 'the keys are ours, and we have not a...</td>\n",
       "      <td>10.0</td>\n",
       "      <td>10.0</td>\n",
       "      <td>[3, 0, 1, 2]</td>\n",
       "      <td>VALID</td>\n",
       "      <td>1: The passage describes a group of people try...</td>\n",
       "    </tr>\n",
       "    <tr>\n",
       "      <th>3</th>\n",
       "      <td>5</td>\n",
       "      <td>RadcASR.txt|107|u</td>\n",
       "      <td>said the marquis, 'what think ye? What evil sp...</td>\n",
       "      <td>7.0</td>\n",
       "      <td>4.0</td>\n",
       "      <td>[3, 0, 1, 2]</td>\n",
       "      <td>VALID</td>\n",
       "      <td>1: The passage describes a marquis leading a g...</td>\n",
       "    </tr>\n",
       "    <tr>\n",
       "      <th>4</th>\n",
       "      <td>6</td>\n",
       "      <td>RadcASR.txt|109|u</td>\n",
       "      <td>She was ordered to confine herself to her apar...</td>\n",
       "      <td>20160.0</td>\n",
       "      <td>90.0</td>\n",
       "      <td>[3, 1, 2, 0]</td>\n",
       "      <td>VALID</td>\n",
       "      <td>1: A woman is confined to her apartment, worri...</td>\n",
       "    </tr>\n",
       "  </tbody>\n",
       "</table>\n",
       "</div>"
      ],
      "text/plain": [
       "   0                  1                                                  2  \\\n",
       "0  1    RadcASR.txt|0|u    A SICILIAN ROMANCE. ON the northern shore of...   \n",
       "1  3    RadcASR.txt|9|u  They stopped to observe it, when it suddenly d...   \n",
       "2  4   RadcASR.txt|90|u  said he, 'the keys are ours, and we have not a...   \n",
       "3  5  RadcASR.txt|107|u  said the marquis, 'what think ye? What evil sp...   \n",
       "4  6  RadcASR.txt|109|u  She was ordered to confine herself to her apar...   \n",
       "\n",
       "            3     4             5      6  \\\n",
       "0  52560000.0  45.0  [2, 0, 3, 1]  VALID   \n",
       "1       120.0  20.0  [3, 1, 2, 0]  VALID   \n",
       "2        10.0  10.0  [3, 0, 1, 2]  VALID   \n",
       "3         7.0   4.0  [3, 0, 1, 2]  VALID   \n",
       "4     20160.0  90.0  [3, 1, 2, 0]  VALID   \n",
       "\n",
       "                                                   7  \n",
       "0  1: The narrator describes visiting the ruins o...  \n",
       "1  1: Madame de Menon and Vincent observe a stran...  \n",
       "2  1: The passage describes a group of people try...  \n",
       "3  1: The passage describes a marquis leading a g...  \n",
       "4  1: A woman is confined to her apartment, worri...  "
      ]
     },
     "execution_count": 32,
     "metadata": {},
     "output_type": "execute_result"
    }
   ],
   "source": [
    "corrected_data.head()"
   ]
  },
  {
   "cell_type": "code",
   "execution_count": 34,
   "id": "2326b8ef-1dc4-466c-8275-d2c77d29f159",
   "metadata": {},
   "outputs": [],
   "source": [
    "a = corrected_data.loc[corrected_data[6] == 'VALID', 3]"
   ]
  },
  {
   "cell_type": "code",
   "execution_count": 37,
   "id": "b20a7869-a439-49df-ae72-77c38d264214",
   "metadata": {},
   "outputs": [],
   "source": [
    "human_times = [math.log(x + 0.1) for x in a]"
   ]
  },
  {
   "cell_type": "code",
   "execution_count": 38,
   "id": "1e6387c4-5b5b-47eb-92c2-4a861ccf6b4b",
   "metadata": {},
   "outputs": [],
   "source": [
    "b = corrected_data.loc[corrected_data[6] == 'VALID', 4]\n",
    "gpt_times = [math.log(x + 0.1) for x in b]"
   ]
  },
  {
   "cell_type": "code",
   "execution_count": 39,
   "id": "5999aed7-6add-4fad-a7bd-45749f18a3ec",
   "metadata": {},
   "outputs": [
    {
     "data": {
      "text/plain": [
       "(0.6819552265972909, 7.235561756217241e-18)"
      ]
     },
     "execution_count": 39,
     "metadata": {},
     "output_type": "execute_result"
    }
   ],
   "source": [
    "pearsonr(human_times, gpt_times)"
   ]
  },
  {
   "cell_type": "code",
   "execution_count": 40,
   "id": "30748f51-d60e-4f75-97b8-3b376ad31609",
   "metadata": {},
   "outputs": [
    {
     "data": {
      "text/plain": [
       "121"
      ]
     },
     "execution_count": 40,
     "metadata": {},
     "output_type": "execute_result"
    }
   ],
   "source": [
    "len(a)"
   ]
  },
  {
   "cell_type": "code",
   "execution_count": null,
   "id": "d33be896-3b5e-4ad7-b8f3-32065897ee56",
   "metadata": {},
   "outputs": [],
   "source": []
  }
 ],
 "metadata": {
  "kernelspec": {
   "display_name": "Python 3",
   "language": "python",
   "name": "python3"
  },
  "language_info": {
   "codemirror_mode": {
    "name": "ipython",
    "version": 3
   },
   "file_extension": ".py",
   "mimetype": "text/x-python",
   "name": "python",
   "nbconvert_exporter": "python",
   "pygments_lexer": "ipython3",
   "version": "3.7.6"
  }
 },
 "nbformat": 4,
 "nbformat_minor": 5
}
